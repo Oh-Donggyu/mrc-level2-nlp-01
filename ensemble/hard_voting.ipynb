{
 "cells": [
  {
   "cell_type": "markdown",
   "metadata": {},
   "source": [
    "- hard_voting_json에 모든 파일을 넣어주세요\n",
    "- sort 했을경우 뒤로갈수록 더 가중치가 작아집니다."
   ]
  },
  {
   "cell_type": "code",
   "execution_count": 8,
   "metadata": {},
   "outputs": [],
   "source": [
    "import os\n",
    "import json"
   ]
  },
  {
   "cell_type": "code",
   "execution_count": 6,
   "metadata": {},
   "outputs": [
    {
     "data": {
      "text/plain": [
       "['predictions.json', 'predictions copy.json', 'predictions copy 2.json']"
      ]
     },
     "execution_count": 6,
     "metadata": {},
     "output_type": "execute_result"
    }
   ],
   "source": [
    "file_list = os.listdir('./hard_voting_json')\n",
    "file_list.sort(reverse=True)\n",
    "file_list"
   ]
  },
  {
   "cell_type": "code",
   "execution_count": 9,
   "metadata": {},
   "outputs": [],
   "source": [
    "predict_files=[]\n",
    "for file in file_list:\n",
    "  with open(f\"./hard_voting_json/{file}\", \"r\") as f:\n",
    "    predict_files.append(json.load(f))"
   ]
  },
  {
   "cell_type": "code",
   "execution_count": 13,
   "metadata": {},
   "outputs": [],
   "source": [
    "voting_dict = {}\n",
    "for key in predict_files[0].keys():\n",
    "  voting_dict[key] = {}"
   ]
  },
  {
   "cell_type": "code",
   "execution_count": 14,
   "metadata": {},
   "outputs": [],
   "source": [
    "score = 1.0\n",
    "for idx, file in enumerate(predict_files):\n",
    "  score -= 0.001\n",
    "  for key in file.keys():\n",
    "    answer = file[key].strip()\n",
    "    if answer not in voting_dict[key].keys():\n",
    "      voting_dict[key][answer] = score\n",
    "    else:\n",
    "      voting_dict[key][answer] += score"
   ]
  },
  {
   "cell_type": "code",
   "execution_count": 16,
   "metadata": {},
   "outputs": [],
   "source": [
    "for key in voting_dict.keys():\n",
    "  score = 0\n",
    "  new_answer = ''\n",
    "  for answer in voting_dict[key].keys():\n",
    "    if voting_dict[key][answer] > score:\n",
    "      score = voting_dict[key][answer]\n",
    "      new_answer = answer\n",
    "  voting_dict[key] = new_answer"
   ]
  },
  {
   "cell_type": "code",
   "execution_count": 18,
   "metadata": {},
   "outputs": [],
   "source": [
    "with open('hard_voting_predictions.json', \"w\", encoding=\"utf-8\") as writer:\n",
    "  writer.write(json.dumps(voting_dict, indent=4, ensure_ascii=False) + \"\\n\")"
   ]
  }
 ],
 "metadata": {
  "interpreter": {
   "hash": "bac68cbaab3d35a4051d1e6f867fd4af3051b6908d059b1a63e6857e32e52681"
  },
  "kernelspec": {
   "display_name": "Python 3.8.9 64-bit ('mrc_venv': venv)",
   "name": "python3"
  },
  "language_info": {
   "codemirror_mode": {
    "name": "ipython",
    "version": 3
   },
   "file_extension": ".py",
   "mimetype": "text/x-python",
   "name": "python",
   "nbconvert_exporter": "python",
   "pygments_lexer": "ipython3",
   "version": "3.8.9"
  },
  "orig_nbformat": 4
 },
 "nbformat": 4,
 "nbformat_minor": 2
}
