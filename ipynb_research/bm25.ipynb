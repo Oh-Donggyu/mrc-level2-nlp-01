{
 "cells": [
  {
   "cell_type": "code",
   "execution_count": 4,
   "metadata": {},
   "outputs": [],
   "source": [
    "from rank_bm25 import BM25Okapi\n",
    "\n",
    "corpus = [\n",
    "    \"Hello there good man!\",\n",
    "    \"It is quite windy in London\",\n",
    "    \"How is the weather today?\"\n",
    "]\n",
    "\n",
    "tokenized_corpus = [doc.split(\" \") for doc in corpus]\n",
    "\n",
    "bm25 = BM25Okapi(tokenized_corpus)"
   ]
  },
  {
   "cell_type": "code",
   "execution_count": 10,
   "metadata": {},
   "outputs": [
    {
     "data": {
      "text/plain": [
       "array([0.        , 0.93729472, 0.        ])"
      ]
     },
     "execution_count": 10,
     "metadata": {},
     "output_type": "execute_result"
    }
   ],
   "source": [
    "query = \"windy London\"\n",
    "tokenized_query = query.split(\" \")\n",
    "\n",
    "doc_scores = bm25.get_scores(tokenized_query)\n",
    "doc_scores"
   ]
  },
  {
   "cell_type": "code",
   "execution_count": 12,
   "metadata": {},
   "outputs": [
    {
     "data": {
      "text/plain": [
       "array([1, 0, 2])"
      ]
     },
     "execution_count": 12,
     "metadata": {},
     "output_type": "execute_result"
    }
   ],
   "source": [
    "import numpy as np\n",
    "np.argsort(-doc_scores)"
   ]
  },
  {
   "cell_type": "code",
   "execution_count": 13,
   "metadata": {},
   "outputs": [
    {
     "data": {
      "text/plain": [
       "array([0.        , 0.93729472, 0.        ])"
      ]
     },
     "execution_count": 13,
     "metadata": {},
     "output_type": "execute_result"
    }
   ],
   "source": [
    "doc_scores"
   ]
  },
  {
   "cell_type": "code",
   "execution_count": 9,
   "metadata": {},
   "outputs": [
    {
     "data": {
      "text/plain": [
       "['It is quite windy in London']"
      ]
     },
     "execution_count": 9,
     "metadata": {},
     "output_type": "execute_result"
    }
   ],
   "source": [
    "bm25.get_top_n(tokenized_query, corpus, n=1)"
   ]
  },
  {
   "cell_type": "code",
   "execution_count": 17,
   "metadata": {},
   "outputs": [],
   "source": [
    "import json\n",
    "import numpy as np\n",
    "\n",
    "from rank_bm25 import BM25Okapi\n",
    "\n",
    "class BM25Retrieval:\n",
    "  def __init__(self, tokenize_fn, data_path):\n",
    "    \"\"\"\n",
    "    bm25 모듈 생성\n",
    "    \"\"\"\n",
    "    with open(data_path, \"r\") as json_data:\n",
    "      wiki_data = json.load(json_data)\n",
    "    \n",
    "    wiki_data_keys = list(wiki_data.keys())\n",
    "    self.contexts = [\n",
    "        wiki_data[key][\"text\"] for key in wiki_data_keys\n",
    "    ]  # 여기 keys값의 text값을 받도록하기\n",
    "    self.tokenize_fn = tokenize_fn\n",
    "    self.__get_sparse_embedding()\n",
    "    \n",
    "  def __get_sparse_embedding(self):\n",
    "      \"\"\"\n",
    "      주어진 passage를 fit 해준다.\n",
    "      \"\"\"\n",
    "      tokenized_contexts = list(map(self.tokenize_fn, self.contexts))\n",
    "      self.bm25 = BM25Okapi(tokenized_contexts)\n",
    "  \n",
    "  def get_relevant_doc(self, query, k=1):\n",
    "      \"\"\"\n",
    "      질문을 입력받고, k 만큼 랭킹을 가져온다.\n",
    "      \"\"\"\n",
    "      tokenized_query = self.tokenize_fn(query)\n",
    "      raw_doc_scores = self.bm25.get_scores(tokenized_query)\n",
    "      \n",
    "      doc_scores_index_desc = np.argsort(-raw_doc_scores)\n",
    "      doc_scores = raw_doc_scores[doc_scores_index_desc]\n",
    "      \n",
    "      doc_list = self.bm25.get_top_n(tokenized_query, self.contexts, k)\n",
    "      \n",
    "      return doc_scores[:k], doc_list\n"
   ]
  },
  {
   "cell_type": "code",
   "execution_count": 18,
   "metadata": {},
   "outputs": [],
   "source": [
    "tokenize_fn = lambda x: x.split()\n",
    "retrieval = BM25Retrieval(tokenize_fn=tokenize_fn, data_path=\"../../data/wikipedia_documents.json\")"
   ]
  },
  {
   "cell_type": "code",
   "execution_count": 19,
   "metadata": {},
   "outputs": [],
   "source": [
    "query = \"미국의 대통령은 누구인가?\"\n",
    "doc_scores, doc_list = retrieval.get_relevant_doc(query, 3)"
   ]
  },
  {
   "cell_type": "code",
   "execution_count": 20,
   "metadata": {},
   "outputs": [
    {
     "data": {
      "text/plain": [
       "array([14.96697037, 13.71463582, 12.38848409])"
      ]
     },
     "execution_count": 20,
     "metadata": {},
     "output_type": "execute_result"
    }
   ],
   "source": [
    "doc_scores"
   ]
  },
  {
   "cell_type": "code",
   "execution_count": 21,
   "metadata": {},
   "outputs": [
    {
     "data": {
      "text/plain": [
       "['대통령 지시(Presidential directive)는 미국 대통령의 국가안보 관련 행정명령이다. NSC의 조언과 동의(Advice and consent)가 필요하다. 국가안보 대통령 지시가 보다 뜻이 명확하다.\\n\\n역대 대통령들은 다양한 용어를 사용했다. 케네디 대통령은 국가안보실행메모(NSAM, National Security Action Memorandums), 닉슨과 포드 대통령은 국가안보결정메모(NSDM, National Security Decision Memorandums), 클린턴 대통령은 대통령결정지시, 조지 부시 대통령은 국가안보대통령지시, 오바마 대통령은 대통령정책지시라고 부른다.\\n\\n미국의 대통령 지시는 비밀명령으로 내려지기도 하는데, 이는 수십년이 지나면 비밀해제되어 일반에 공개된다. 미국 육군 정보와 보안 사령부와 같이, 군대에 특정 부대를 창설하는 경우, 대통령 지시만으로 창설되곤 한다.',\n",
       " '한미 관계\\n\\n이명박 대통령은 이미 여러 차례 “새로운 정부에서는 한미관계를 더욱 강화하겠다”는 뜻을 밝혔고 실제로 한미관계는 더욱 강화될 것이라 보는 의견이 많았다.  이명박 대통령은 한미동맹 강화를 위해서는 미국 주도의 대량살상무기 확산방지구상(PSI)과 MD 계획에도 적극 참여해야 한다는 입장인 것으로 알려졌다. \\n\\n미국산 쇠고기 수입 협상 논란은 촛불집회로 비화되어 2008년 미국산 쇠고기 수입 협상 논란을 경험했다. 이때 이명박 정부는 미국과의 동맹강화를 위해 이러한 논란을 묵살하는 정책을 폈으며, 결과적으로 성공적으로 사태를 진압하여 한미관계 강화를 향한 일관된 원칙을 증명했다.\\n\\n이후, 2009년 미국의 새로운 오바마 행정부의 등장으로 외교관계는 일시적으로 정체되었다가, 현재는 정상회담을 통해 북핵문제에 대한 공조 및 G20 정상 회의 등에 대한 포괄적 합의를 하는 데에 이르렀다. \\n\\n2009년 11월 19일에는 미국의 오바마 대통령이 방한했다. 여기서 이명박 한국 대통령과 오바마 미국 대통령은 한미동맹 강화 및 한미자유무역협정 협상의 진전을 위한 노력, 북핵 문제의 그랜드 바겐 방식 공감, 아프가니스탄의 한국군 파병 문제 논의 등이 이루어졌으며,‘동맹’ 실천계획 없는 “공감”… FTA 이견 재확인|url=http://news.khan.co.kr/kh_news/khan_art_view.html?artid=200911191818365&code=910302|출판사=경향신문|저자=서의동|날짜=2009-11-19|확인날짜=2009-11-19}}</ref> 이명박 대통령이 오바마 미국 대통령에게 태권도복을 선물하는 등의 화기애애한 분위기가 연출되기도 하였다.  하지만 여기서 논의된 한미자유무역협정 자동차 부문 재협상 문제  와 아프가니스탄의 한국군 파병 문제는 대한민국 내에서 논란을 불러 일으키기도 했다.  또한 두 정상의 미묘한 의견 불일치가 있다는 의견도 있었다. \\n\\n2010년 6월 27일 캐나다 토론토에서 이명박 대통령과의 양자 정상회담 뒤 가진 기자회견에서 전시작전통제권을 2015년으로 연기하기로 합의했다고 발표하면서“전작권 연기 결정을 통해 한·미 양국이 기존의 안보 틀 내에서 일을 제대로 할 수 있는 적절한 시간을 줄 것”이라고 말했다. 또한 “한미동맹은 한국과 미국의 안보뿐 아니라 태평양 전체 안보의 핵심(Linchpin)이기 때문”이라고 강조했다. 오바마 대통령은 이어 “한국은 미국의 가장 친한 친구 중 하나”라고 언급했다.',\n",
       " '미국 합동참모회의(美國 合同參謀會議, JCS: Joint Chiefs of Staff)는 미국의 문민정부에 조언 및 권고하는 미군 최고위급의 참모 회의이다.\\n\\n이를 보좌하는 참모기관으로 미국 합동참모본부(美國 合同參謀本部, Joint Staff)가 있으나, 이에 준하는 한국 합동참모본부의 영문명칭은 Joint Chiefs of Staff이다.\\n\\n미국 대통령은 합동참모의장과 합동참모차장을 임명한다. 이들은 군령권과 군정권을 갖진 않으나 대통령과 국방장관의 국방분야 수석자문으로서의 역할을 한다.  현재 미국의 합참의장은 마크 알렉산더 밀리이다.\\n\\n유사한 기관으로 종종 Chiefs of Staff Committee (COSC)가 있다. 이것은 다른 국가들에 일반적으로 존재한다.']"
      ]
     },
     "execution_count": 21,
     "metadata": {},
     "output_type": "execute_result"
    }
   ],
   "source": [
    "doc_list"
   ]
  },
  {
   "cell_type": "code",
   "execution_count": 1,
   "metadata": {},
   "outputs": [],
   "source": [
    "from datasets import load_from_disk\n",
    "\n",
    "datasets = load_from_disk(\"../../data/test_dataset\")"
   ]
  },
  {
   "cell_type": "code",
   "execution_count": 2,
   "metadata": {},
   "outputs": [
    {
     "data": {
      "text/plain": [
       "DatasetDict({\n",
       "    validation: Dataset({\n",
       "        features: ['question', 'id'],\n",
       "        num_rows: 600\n",
       "    })\n",
       "})"
      ]
     },
     "execution_count": 2,
     "metadata": {},
     "output_type": "execute_result"
    }
   ],
   "source": [
    "datasets"
   ]
  },
  {
   "cell_type": "code",
   "execution_count": null,
   "metadata": {},
   "outputs": [],
   "source": []
  }
 ],
 "metadata": {
  "interpreter": {
   "hash": "bac68cbaab3d35a4051d1e6f867fd4af3051b6908d059b1a63e6857e32e52681"
  },
  "kernelspec": {
   "display_name": "Python 3.8.9 64-bit ('mrc_venv': venv)",
   "name": "python3"
  },
  "language_info": {
   "codemirror_mode": {
    "name": "ipython",
    "version": 3
   },
   "file_extension": ".py",
   "mimetype": "text/x-python",
   "name": "python",
   "nbconvert_exporter": "python",
   "pygments_lexer": "ipython3",
   "version": "3.8.9"
  },
  "orig_nbformat": 4
 },
 "nbformat": 4,
 "nbformat_minor": 2
}
