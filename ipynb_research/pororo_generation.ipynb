{
 "cells": [
  {
   "cell_type": "code",
   "execution_count": 1,
   "metadata": {},
   "outputs": [],
   "source": [
    "import os\n",
    "\n",
    "from konlpy.tag import Komoran, Kkma, Hannanum, Okt, Mecab\n",
    "from pororo import Pororo\n",
    "\n",
    "class DataGenerator:\n",
    "  def __init__(self):\n",
    "    os.environ[\"TOKENIZERS_PARALLELISM\"] = \"false\"\n",
    "    self.qg = Pororo(task=\"qg\", lang=\"ko\")\n",
    "    self.ner = Pororo(task=\"ner\", lang=\"ko\")\n",
    "    self.mecab = Mecab()\n",
    "    self.okt = Okt()\n",
    "    self.komoran = Komoran()\n",
    "    self.kkma = Kkma()\n",
    "    self.han = Hannanum()\n",
    "    self.id = 1\n",
    "\n",
    "  def delete_duplicate(self, answer_list): \n",
    "    new_answer_list = []\n",
    "    duplicate_list = []\n",
    "    for answer in answer_list:\n",
    "      if answer not in new_answer_list:\n",
    "        new_answer_list.append(answer)\n",
    "      else:\n",
    "        duplicate_list.append(answer)\n",
    "    duplicate_list = list(set(duplicate_list))\n",
    "    for dup_ans in duplicate_list:\n",
    "      new_answer_list.remove(dup_ans)\n",
    "    return new_answer_list\n",
    "\n",
    "  def get_only_komoran_NNP(self, answer_list):\n",
    "    new_answer_list = []\n",
    "    for answer in answer_list:\n",
    "      if len(self.han.pos(answer)) > 1 and len(self.mecab.pos(answer)) > 1 and len(self.kkma.pos(answer)) > 1 and len(self.okt.pos(answer)) > 1:\n",
    "        # 여기 정규표현식으로 0월 0일 만 걸러주게 만들기\n",
    "        ner_data = self.ner(answer)\n",
    "        if len(ner_data) == 1 and ner_data[0][1] == 'DATE':\n",
    "          continue\n",
    "        new_answer_list.append(answer)\n",
    "    return new_answer_list\n",
    "\n",
    "  def get_komoran_NNP(self, context):\n",
    "    pos_list = self.komoran.pos(context)\n",
    "    pos_list = list(filter(lambda x: x[1] == 'NNP', pos_list))\n",
    "    answer_list = [ answer[0] for answer in pos_list ]\n",
    "    answer_list = self.delete_duplicate(answer_list)\n",
    "    answer_list = self.get_only_komoran_NNP(answer_list)\n",
    "    return answer_list\n",
    "  \n",
    "  def get_date(self, context):\n",
    "    ners = self.ner(context)\n",
    "    quentity_date_ner = list(filter(lambda x: x[1] == 'DATE', ners))\n",
    "    return [answer[0] for answer in quentity_date_ner]\n",
    "  \n",
    "  def get_date_question(self, context):\n",
    "    answers = self.get_date(context)\n",
    "    answers = self.delete_duplicate(answers)\n",
    "    return answers\n",
    "  \n",
    "  def get_question_N(self, context):\n",
    "    answer_list = self.get_komoran_NNP(context)\n",
    "    if len(answer_list) == 0:\n",
    "      return [], []\n",
    "    return answer_list, self.qg(answer_list, context)\n",
    "  \n",
    "  def get_question_Q(self, context):\n",
    "    answer_list = self.get_date_question(context)\n",
    "    if len(answer_list) == 0:\n",
    "      return [], []\n",
    "    return answer_list, self.qg(answer_list, context)\n",
    "    \n",
    "  def generate_question_with_dataset_format(self, wiki_data, q_type = \"N\"):\n",
    "    datasets = []\n",
    "    if q_type == \"N\":\n",
    "      answer_list, question_list = self.get_question_N(wiki_data['context'])\n",
    "    elif q_type == \"Q\":\n",
    "      answer_list, question_list = self.get_question_Q(wiki_data['context'])\n",
    "    else:\n",
    "      raise \"정확한 q_type을 입력하세요. N or Q\"\n",
    "    for answer, question in zip(answer_list, question_list):\n",
    "      data = {\n",
    "        'context': wiki_data['context'],\n",
    "        'question': question,\n",
    "        'id': self.id,\n",
    "        'title': wiki_data['title'],\n",
    "        'document_id': wiki_data['document_id'],\n",
    "        'answers': {\n",
    "          'answer_start': [wiki_data['context'].index(answer)],\n",
    "          'text': [answer]\n",
    "        }\n",
    "      }\n",
    "      self.id += 1\n",
    "      datasets.append(data)\n",
    "    return datasets\n",
    "    "
   ]
  },
  {
   "cell_type": "code",
   "execution_count": 2,
   "metadata": {},
   "outputs": [],
   "source": [
    "from datasets import load_from_disk\n",
    "\n",
    "wiki_datasets = load_from_disk(\"/opt/ml/data/wiki_datasets\")"
   ]
  },
  {
   "cell_type": "code",
   "execution_count": 3,
   "metadata": {},
   "outputs": [
    {
     "name": "stderr",
     "output_type": "stream",
     "text": [
      "The tokenizer class you load from this checkpoint is not the same type as the class this function is called from. It may result in unexpected tokenization. \n",
      "The tokenizer class you load from this checkpoint is 'BartTokenizer'. \n",
      "The class this function is called from is 'PreTrainedTokenizerFast'.\n"
     ]
    }
   ],
   "source": [
    "dg = DataGenerator()"
   ]
  },
  {
   "cell_type": "code",
   "execution_count": 4,
   "metadata": {},
   "outputs": [
    {
     "name": "stderr",
     "output_type": "stream",
     "text": [
      "  0%|          | 0/5 [00:00<?, ?it/s][Korean Sentence Splitter]: Initializing Pynori...\n",
      "100%|██████████| 5/5 [04:12<00:00, 50.46s/it]\n"
     ]
    }
   ],
   "source": [
    "from tqdm import tqdm\n",
    "\n",
    "datasets = {\n",
    "  'context': [],\n",
    "  'question': [],\n",
    "  'id': [],\n",
    "  'title': [],\n",
    "  'document_id': [],\n",
    "  'answers': []\n",
    "}\n",
    "error_data = []\n",
    "for index in tqdm(range(0, 5)):\n",
    "  data_list = []\n",
    "  try:\n",
    "    data_list.extend(dg.generate_question_with_dataset_format(wiki_datasets[index]))\n",
    "  except:\n",
    "    error_data.append(index)\n",
    "  # data_list.extend(dg.generate_question_with_dataset_format(wiki_datasets[index], q_type='Q'))\n",
    "  for data in data_list:\n",
    "    for key in datasets.keys():\n",
    "      datasets[key].append(data[key])"
   ]
  },
  {
   "cell_type": "code",
   "execution_count": 5,
   "metadata": {},
   "outputs": [
    {
     "data": {
      "text/plain": [
       "[{'answer_start': [6], 'text': ['나라 목록']},\n",
       " {'answer_start': [103], 'text': ['바티칸 시국']},\n",
       " {'answer_start': [128], 'text': ['국제 기구']},\n",
       " {'answer_start': [206], 'text': ['데 팍토']},\n",
       " {'answer_start': [520], 'text': ['바티칸 시국']},\n",
       " {'answer_start': [610], 'text': ['유엔 회원국']},\n",
       " {'answer_start': [642], 'text': ['니우에']},\n",
       " {'answer_start': [662], 'text': ['사하라 아랍 민주 공화국']},\n",
       " {'answer_start': [694], 'text': ['쿡 제도']},\n",
       " {'answer_start': [1295], 'text': ['독일 제국']},\n",
       " {'answer_start': [1336], 'text': ['우크라이나 소비에트 사회주의 공화국']},\n",
       " {'answer_start': [1369], 'text': ['벨로루시 소비에트 사회주의 공화국']},\n",
       " {'answer_start': [248], 'text': ['한국 전쟁']},\n",
       " {'answer_start': [278], 'text': ['그 후']},\n",
       " {'answer_start': [358], 'text': ['모로이 사부로']},\n",
       " {'answer_start': [409], 'text': ['아르놀트 쇤베르크']},\n",
       " {'answer_start': [465], 'text': ['쾰른 대학교']},\n",
       " {'answer_start': [682], 'text': ['세계의 역사']},\n",
       " {'answer_start': [807], 'text': ['앨런 카']},\n",
       " {'answer_start': [1436], 'text': ['노버트 위너']},\n",
       " {'answer_start': [2118], 'text': ['사이에서']},\n",
       " {'answer_start': [2943], 'text': ['오래된 TV']},\n",
       " {'answer_start': [3135], 'text': ['미국의 문화']},\n",
       " {'answer_start': [3343], 'text': ['휘트니 미술관']},\n",
       " {'answer_start': [3548], 'text': ['굿모닝 미스터 오웰']},\n",
       " {'answer_start': [3650], 'text': ['서울까지']},\n",
       " {'answer_start': [3686], 'text': ['피터 가브리엘']},\n",
       " {'answer_start': [3719], 'text': ['앨런 긴즈버그']},\n",
       " {'answer_start': [3728], 'text': ['이브 몽탕']},\n",
       " {'answer_start': [3882], 'text': ['손에 손잡고']},\n",
       " {'answer_start': [4915], 'text': ['구겐하임 미술관']},\n",
       " {'answer_start': [4970], 'text': ['야곱의 사다리']},\n",
       " {'answer_start': [55], 'text': ['일본의 인터넷']},\n",
       " {'answer_start': [141], 'text': ['일본 문학']},\n",
       " {'answer_start': [307], 'text': ['JIS X 0208']},\n",
       " {'answer_start': [457], 'text': ['텍스트 파일']},\n",
       " {'answer_start': [332], 'text': ['모리 오가이']},\n",
       " {'answer_start': [349], 'text': ['아쿠타가와 류노스케']},\n",
       " {'answer_start': [380], 'text': ['다자이 오사무']},\n",
       " {'answer_start': [398], 'text': ['미야모토 유리코']},\n",
       " {'answer_start': [416], 'text': ['사카구치 안고']},\n",
       " {'answer_start': [435], 'text': ['나가이 가후']},\n",
       " {'answer_start': [443], 'text': ['요시카와 에이지']}]"
      ]
     },
     "execution_count": 5,
     "metadata": {},
     "output_type": "execute_result"
    }
   ],
   "source": [
    "datasets['answers']"
   ]
  },
  {
   "cell_type": "code",
   "execution_count": 9,
   "metadata": {},
   "outputs": [],
   "source": [
    "from datasets import Dataset\n",
    "new_train_data = Dataset.from_dict(datasets)"
   ]
  },
  {
   "cell_type": "code",
   "execution_count": 31,
   "metadata": {},
   "outputs": [
    {
     "data": {
      "text/plain": [
       "{'context': '저자 사망 이후 50년이 지나 저작권이 소멸한 메이지 시대부터 쇼와 시대 초기까지의 서적 대부분이 존재한다. 외국 번역작품이나 저자가 무료보기를 인정한 현대작품도 포함된다. 장르는 정치부터 취미까지 다양하지만, 비교적 문학작품(시대소설, 추리소설등의 오락작품 포함)이 많다. 유명작가의 작품이 모두 갖춰져있진 않지만 그래도 일본어작품에 관련해서는 충실하게 갖춰진 편이다. (번역작품의 경우 번역저작권을 문제로 수가 많지 않다.)\\n\\n잘 알려지지 않은 작품을 보존, 소개하는 장점도 있다. 작품 텍스트화는 지금도 현재진행형이며 2011년 3월 15일 현재 등록작품수가 1만권이 넘었다.\\n고전작가인 모리 오가이, 나츠메 소세키, 아쿠타가와 류노스케, 최근의 작가로는 나카지마 아츠시, 다자이 오사무, 하야시 후미코, 미야모토 유리코, 호리 다쓰오, 사카구치 안고, 다카무라 고타로, 나가이 가후, 요시카와 에이지 등 인물의 작품이 있다.',\n",
       " 'document_id': 4,\n",
       " 'answers': {'answer_start': [416], 'text': ['사카구치 안고']},\n",
       " 'id': 41,\n",
       " 'question': '호리 다쓰오의 저자가 누구야?',\n",
       " 'title': '아오조라 문고'}"
      ]
     },
     "execution_count": 31,
     "metadata": {},
     "output_type": "execute_result"
    }
   ],
   "source": [
    "new_train_data[40]"
   ]
  },
  {
   "cell_type": "code",
   "execution_count": 27,
   "metadata": {},
   "outputs": [
    {
     "name": "stderr",
     "output_type": "stream",
     "text": [
      "100%|██████████| 5/5 [05:07<00:00, 61.54s/it]\n"
     ]
    }
   ],
   "source": [
    "from tqdm import tqdm\n",
    "\n",
    "datasets2 = {\n",
    "  'context': [],\n",
    "  'question': [],\n",
    "  'id': [],\n",
    "  'title': [],\n",
    "  'document_id': [],\n",
    "  'answers': []\n",
    "}\n",
    "error_data = []\n",
    "for index in tqdm(range(0, 5)):\n",
    "  data_list = []\n",
    "  # try:\n",
    "  #   data_list.extend(dg.generate_question_with_dataset_format(wiki_datasets[index]))\n",
    "  # except:\n",
    "  #   error_data.append(index)\n",
    "  try:\n",
    "    data_list.extend(dg.generate_question_with_dataset_format(wiki_datasets[index], q_type='Q'))\n",
    "  except:\n",
    "    error_data.append(index)\n",
    "  for data in data_list:\n",
    "    for key in datasets.keys():\n",
    "      datasets2[key].append(data[key])"
   ]
  },
  {
   "cell_type": "code",
   "execution_count": 33,
   "metadata": {},
   "outputs": [
    {
     "data": {
      "text/plain": [
       "[{'answer_start': [16], 'text': ['1933년']},\n",
       " {'answer_start': [19], 'text': ['일제 강점기']},\n",
       " {'answer_start': [221], 'text': ['1949년']},\n",
       " {'answer_start': [291], 'text': ['1952년']},\n",
       " {'answer_start': [315], 'text': ['2년 후']},\n",
       " {'answer_start': [427], 'text': ['1956년']},\n",
       " {'answer_start': [512], 'text': ['1년 후']},\n",
       " {'answer_start': [608], 'text': ['1958년']},\n",
       " {'answer_start': [845], 'text': ['1959년']},\n",
       " {'answer_start': [1170], 'text': ['1960년대 초반']},\n",
       " {'answer_start': [1535], 'text': ['2년여 동안']},\n",
       " {'answer_start': [1862], 'text': ['20세기']},\n",
       " {'answer_start': [2090], 'text': ['2015-5-9']},\n",
       " {'answer_start': [2172], 'text': ['1964년']},\n",
       " {'answer_start': [2305], 'text': ['1965년']},\n",
       " {'answer_start': [2564], 'text': ['1967년']},\n",
       " {'answer_start': [2857], 'text': ['1974년부터']},\n",
       " {'answer_start': [3123], 'text': ['1960년대 후반부터']},\n",
       " {'answer_start': [2857], 'text': ['1974년']},\n",
       " {'answer_start': [3271], 'text': ['1959-1973']},\n",
       " {'answer_start': [3334], 'text': ['1982년']},\n",
       " {'answer_start': [3415], 'text': ['1970년대 중반부터']},\n",
       " {'answer_start': [3535], 'text': ['1984년 1월 1일']},\n",
       " {'answer_start': [3874], 'text': ['1986']},\n",
       " {'answer_start': [3890], 'text': ['1988']},\n",
       " {'answer_start': [3535], 'text': ['1984년']},\n",
       " {'answer_start': [4156], 'text': ['1992년']},\n",
       " {'answer_start': [4325], 'text': ['1993년']},\n",
       " {'answer_start': [4564], 'text': ['1995년']},\n",
       " {'answer_start': [4861], 'text': ['1996년 4월 9일']},\n",
       " {'answer_start': [4886], 'text': ['6개월만']},\n",
       " {'answer_start': [4892], 'text': ['그해 10월']},\n",
       " {'answer_start': [4906], 'text': ['2000년']},\n",
       " {'answer_start': [5000], 'text': ['2006년 1월 29일']},\n",
       " {'answer_start': [118], 'text': ['50년']},\n",
       " {'answer_start': [131], 'text': ['쇼와 시대 초']},\n",
       " {'answer_start': [198], 'text': ['1997년 2월']},\n",
       " {'answer_start': [260], 'text': ['2016년']},\n",
       " {'answer_start': [266], 'text': ['연간']},\n",
       " {'answer_start': [9], 'text': ['50년']},\n",
       " {'answer_start': [26], 'text': ['메이지 시대부터']},\n",
       " {'answer_start': [35], 'text': ['쇼와 시대 초기까지']},\n",
       " {'answer_start': [293], 'text': ['2011년 3월 15일']}]"
      ]
     },
     "execution_count": 33,
     "metadata": {},
     "output_type": "execute_result"
    }
   ],
   "source": [
    "datasets2['answers']"
   ]
  },
  {
   "cell_type": "code",
   "execution_count": 32,
   "metadata": {},
   "outputs": [],
   "source": [
    "from datasets import Dataset\n",
    "new_train_data2 = Dataset.from_dict(datasets2)"
   ]
  },
  {
   "cell_type": "code",
   "execution_count": 34,
   "metadata": {},
   "outputs": [
    {
     "data": {
      "text/plain": [
       "{'context': '현 서울특별시 종로구 서린동 (구 일제 강점기 경기도 경성부 서린정) 출신이다. 친일파인 아버지 백낙승과 어머니 조종희 사이의 3남 2녀 중 막내로 태어났다. 그후 종로구 창신동 197번지 소위 \"큰대문집\"에서 18세까지 살았다. 수송국민학교와 경기제1고등보통학교를 다니면서 피아니스트 신재덕에게 피아노 연주를, 작이건우]]에게 작곡을 각각 배웠다. 이때 한국이 낳은 작곡가 김순남을 사사했다. 1949년 그는 홍콩 로이덴 스쿨로 전학했으며, 한국 전쟁이 발발하기 이전 가족이 일본으로 이주했다. 그 후 일본으로 건너가 1952년 도쿄 대학교 문과부에 입학했다. 2년 후 미술사학 및 미학으로 전공을 정했지만, 실제로는 일본 당대의 작곡가 모로이 사부로, 미학자 노무라 요시오 등에게서 작곡과, 음악사학을 공부했다. 졸업 논문은 ‘아르놀트 쇤베르크 연구’이다.\\n\\n1956년 백남준은 졸업과 함께 독일로 유학을 떠나 뮌헨 대학교 및 쾰른 대학교 등에서 서양의 건축, 음악사, 철학 등을 공부하였다. 뮌헨 대학교 입학 1년 후에는 프라이부르크 국립 음악 대학교로 옮겨 볼프강 포르트너 교수에게 배우지만, 곧 쇤베르크 이후 현대음악의 실험이 활발히 진행되던 다름슈타트 하기 강좌에 참여했다. 1958년 그 곳에서 현대음악가 존 케이지를 만나 그의 음악에 대한 파괴적 접근과 자유정신으로부터 깊은 영감을 얻었다. 이 영감은 \"세계의 역사는 우리에게 알려준다. 주어진 게임에서 이길 수 없다면 규칙을 바꿔라\" 라는 것으로 규정된다. 이후 1950년대부터 활발해지기 시작한 독일 라인 지역의 액션뮤직의 현장에서 백남준은 ‘아시아에서 온 문화테러리스트’(앨런 카프로)라고 불릴 정도의 탁월한 퍼포먼스 아티스트로 활약했다. 1959년 ‘존 케이지에게 보내는 경의’에서 음악적 콜라주와 함께 피아노를 부수는 퍼포먼스를 선보이는 것을 시작으로, 바이올린을 단숨에 파괴하거나(바이올린 솔로) 존 케이지가 착용한 넥타이를 잘라버리는 퍼포먼스(피아노 포르테를 위한 연습곡)가 특히 유명하다. 이 초기 퍼포먼스에 대해 백남준은 스스로 \"충격, 표현주의, 낭만주의, 클라이맥스, 놀라움, 기타 등등을 보여준 것\"이라고 표현한 바 있다. 1961년 카를하인츠 슈토크하우젠의 음악 퍼포먼스 ‘오리기날레’에서 머리와 넥타이로 잉크를 묻혀 두루마리에 흔적을 남기는 독특한 퍼포먼스 심플 머리를 위한 선율을 보여주기도 했다. 1960년대 초반 조지 마키우나스, 요셉 보이스 등과 의기투합하여 플럭서스 활동을 함께 전개했다. 다다이즘에 영향을 받은 플럭서스는 헤라클레이투스가 주장한 ‘변화 생성의 흐름’ 이라는 개념을 받아들여 \"목적이 없는 자유, 실험을 위한 실험\"이라는 명목 하에 이벤트와 퍼포먼스 그리고 전위음악에 주력했고, 곧 유럽과 아시아 및 미국 등 세계로 퍼져나갔다.\\n\\n1961년 백남준은 작곡가 슈토크하우젠이 중심이 된 쾰른의 WDR 전자음악 스튜디오에 출입했으며, 이때 1950년대부터 노버트 위너에 의해 제안된 \\'사이버네틱스\\' 개념 하에서 전자공학을 공부한 것으로 알려져 있다. 특히 레이다와 TV 작업에 몰두했던 독일 작가 칼 오토 괴츠의 실패를 거울 삼아서 2년여 동안 홀로 TV를 활용한 미디어 아트로서의 가능성을 탐문하고 실험했다. 그 성과를 바탕으로 1963년 독일 부퍼탈 파르나스 갤러리에서 자신의 첫 번째 전시 ‘음악의 전시-전자 텔레비전’을 열었으며, 13대의 실험적인 TV를 통해 훗날 비디오 아트라고 불리게 되는 초기 형태를 보여주었다. 이 전시는 백남준이 자신의 즉흥음악 또는 무음악의 발상에 기초한 실제 퍼포먼스, 그 흔적과 결과물처럼 유럽에서 자신이 진행해온 작업의 성과와 함께 TV를 비롯한 미디어로 새로운 예술의 형태를 시도하는 작업이 공존하고 있었다. ‘적분된 피아노’, ‘랜덤 액세스 뮤직’, ‘레코드 샤슐릭’같은 20세기 전위음악에 젖줄을 대고 있는 실험적 음악의 시도와 ‘잘린 소머리’, ‘파괴된 누드 마네킹’, ‘보이스의 피아노 파괴 퍼포먼스’\\'걸음을 위한 선\\' \\'바람을 위한 선\\' 같은 우상파괴적 설치 작업 및 참여예술 형태의 퍼포먼스가 함께 펼쳐졌다. 청년 백남준은 이러한 전시 내용을 ‘동시성’, ‘참여’, ‘임의접속’ 등등에 관한 16개의 테마로써 정리하는 종합적인 큐레이팅 전시로 보여주었기 때문에 최근날짜=2015-5-9 독일, 오스트리아 등지의 연구자들 사이에서 이 전시의 중요성을 재평가하면서 아카이빙 작업과 연구가 점차 활발해지는 추세에 있다.\\n\\n1964년 백남준은 일본으로 건너가 \\'로봇 K-456\\'을 제작했으며, 곧 세계 예술의 중심지 뉴욕으로 이주했다. 뉴욕 언더그라운드 필름 운동의 중심지 중 하나였던 시네마테크 필름메이커스에 관여했으며, 스스로 영상 작업을 진행하기도 했다. 1965년 소니의 포타팩(세계 최초의 휴대용 비디오카메라)으로 미국 뉴욕을 첫 방문 중이던 교황 요한 바오로 6세를 촬영하여 곧바로 그 영상을 ‘카페 오 고고’에서 방영했다. 이것이 미술사에서는 한동안 공식적인 비디오 아트의 시작으로 기록되어 있었다. 지금은 1963년 첫번째 전시를 비디오아트의 기점으로 보고 있다. 또한 첼로 연주자이자 뉴욕 아방가르드 페스티벌의 기획자였던 샬럿 무어먼과 함께 비디오 아트와 음악을 혼합한 퍼포먼스 작업을 활발히 펼쳤다. 특히 1967년 음악에 성적인 코드를 집어넣은 백남준의 ‘오페라 섹스트로니크’에서 샬럿 무어먼은 누드 상태의 첼로 연주를 시도하다가 뉴욕 경찰에 체포되어 큰 사회적 파장을 불러일으켰다. 그 결과로 인해 예술 현장에서 누드를 처벌할 수 없다는 뉴욕의 법 개정이 이루어지는 획기적인 진전이 일어난다. 이후에도 미디어 아트가 미국 뉴욕을 중심으로 서서히 득세해가는 시대적 조류 속에서 두 사람은 ‘살아있는 조각을 위한 TV 브라’, ‘TV 첼로’, ‘TV 침대’ 등등 미디어 테크놀로지와 퍼포먼스를 결합한 많은 예술활동을 전개했다.\\n\\n1974년부터 백남준은 영상으로서의 비디오 아트를 새로운 미술적 방법인 설치 미술로 변환하여 다양하게 진행했으며, 그에 따라 ‘TV 붓다’, ‘달은 가장 오래된 TV다’, ‘TV 정원’, ‘TV 물고기’ 등등 많은 대표작을 선보였다. 이 작품들은 비디오 아트와 생명의 상징을 전자적으로 결합하여 테크놀로지로 물든 현대 사회의 새로운 합성적 생명력을 추구했다는 평판을 얻었다. 특히 \\'TV 붓다\\'는 그의 초기 비디오 설치의 경향을 잘 보여주는 대표작으로서 가장 널리 알려졌다. 1960년대 후반부터 미국의 문화적 환경이 미디어 테크놀로지에 호의적으로 변화하면서 폭발적인 수준의 미디어 전시가 빈발했고, 백남준의 비디오 아트는 그룹전 형태로 수많은 전시에 활발하게 참여했다. 1974년 뉴욕 에버슨 미술관 개인전과 함께 비데아 앤 비디올로지: 1959-1973이라는 예술과 기술을 교차시키는 하이브리드에 관한 저작을 내놓아 미디아 아트의 이해를 도왔으며, 1982년 뉴욕 휘트니 미술관에서 개최된 ‘백남준 회고전’을 통해 그의 예술 세계가 뉴욕을 중심으로 미국 사회에 많이 알려지는 계기가 되었다.\\n\\n1970년대 중반부터는 뉴욕 WNET 방송국, 보스턴 WGBH 방송국과 협력하여 자신의 비디오 아트를 공중파 TV에서 방송했고, 이는 네트워크 방송을 끌어들여 예술 세계의 영역 확장을 꾀한 놀라운 시도였다. 나아가 1984년 1월 1일 ‘굿모닝 미스터 오웰’은 세계적인 아티스트들의 퍼포먼스를 뉴욕 WNET 방송국과 파리 퐁피두 센터를 연결한 실시간 위성 생중계로 방송하여 전 세계적 반향을 불러일으켰다. 샌프란시스코와 서울까지 연결된 이 국제적인 규모의 위성 아트에는 로리 앤더슨, 피터 가브리엘, 오잉고 보잉고, 존 케이지, 요셉 보이스, 앨런 긴즈버그, 이브 몽탕 등의 예술가과 대중문화의 스타가 다수 참여했으며, 전 세계 2천 5백만명(재방송 포함)이 시청하였다. 이로써 전세계적인 차원의 대중적 각인이 이루어졌고, 마치 대중스타처럼 성가를 높였다. 이후에도 ‘위성 아트’ 3부작으로 명명된 ‘바이 바이 키플링’(1986), ‘손에 손잡고’(1988) 등이 이어져 위성 연결을 통한 전세계의 네트워크가 어떻게 새로운 부족사회를 낳는지 실감시켰다.\\n\\n1984년 일본 도쿄 소게쓰[草月]홀에서 백남준과 요셉 보이스가 공동으로 참여한 퍼포먼스 \\'코요테 콘서트 II\\'가 펼쳐졌으며, 이들이 각각 몽골의 늑대 울음소리와 초원의 달빛을 음악적으로 표현한 것을 통해 1961년 첫 만남부터 계속 이어온 공동의 관심사가 무엇인지 알려지기 시작했다. 그러나 이들의 이후 퍼포먼스 계획은 요셉 보이스의 죽음과 함께 미완으로 끝났다.\\n\\n1992년 \\'비디오 때, 비디오 땅\\' 전시는 독일 쿤스트 할레와 스위스 쮜리히에서 진행된 전시의 서울 투어전시로서 당시 과천 막계동에 자리잡은 지 몇 년 되지 않았던 국립현대미술관 과천관에 총 관람 인원 20만명이 찾은 첫번째 전시로 기록되었다. 이 전시의 주요한 작품은 \\'나의 파우스트\\' 시리즈이다. 1993년 백남준은 독일 작가 한스 하케와 함께 베니스 비엔날레 독일관 작가로 초대되어 국가전시관 부문에서 황금사자상을 수상했다. \\'문명의 동서남북\\'이라는 주제의 이 전시에서 그는 북방 유라시아의 유목 문화를 배경으로 전자적 소통을 시도하는 비디오 로봇 형태의‘칭기스칸의 복권’, ‘마르크폴로’, ‘훈족의 왕 아틸라’,‘스키타이의 왕 단군’, ‘로봇 전사’, ‘고대기마인물상’ 같은 작품들을 중심으로 다수의 작품을 내놓았다.\\n\\n1995년 백남준은 제1회 광주 비엔날레 태동의 산파 역할을 하며, 한국 미술이 국제적으로 진출할 수 있도록 조력자 역할을 수행했다. 제1회 광주 비엔날레는 국내외 총 관람객이 160만 명에 달하는 성공을 거두었고, 특히 백남준이 직접 관여한 ‘INFO Art’전이 주목받았다. 또한 백남준은 같은 해 베니스 비엔날레 국가전시관 부문에 한국관을 설치하는 일에 결정적인 역할을 했다. 이로써 한국 미술이 세계 미술계에 진출하는 교두보가 마련되었다고 하겠다. 같은 해 그의 예술적 정수가 담긴 일렉트로닉 수퍼하이웨이 전시를 진행했다. 1996년 4월 9일 뇌졸중으로 쓰러졌으며, 6개월만인 그해 10월에 재기했다. 2000년 뉴욕 구겐하임 미술관에서 ‘백남준의 세계’ 라는 대규모 회고전이 열렸으며, 이때 백남준은 레이저 아트 ‘야곱의 사다리’, ‘삼원소’ 등을 전시한 바 있다.\\n\\n2006년 1월 29일, 미국 마이애미의 자택에서 노환으로 75세로 별세, 유해가 서울, 뉴욕, 독일에 나눠서 안치되었다.',\n",
       " 'document_id': 2,\n",
       " 'answers': {'answer_start': [1535], 'text': ['2년여 동안']},\n",
       " 'id': 54,\n",
       " 'question': '백남준은 얼마 동안 홀로 TV를 활용한 미디어 아트로서의 가능성을 탐문하고 실험했나?',\n",
       " 'title': '백남준'}"
      ]
     },
     "execution_count": 34,
     "metadata": {},
     "output_type": "execute_result"
    }
   ],
   "source": [
    "new_train_data2[10]"
   ]
  }
 ],
 "metadata": {
  "interpreter": {
   "hash": "8ac241b0038c08a55f8050af53e8f36f8d3acfd39857d2d9e019009179736117"
  },
  "kernelspec": {
   "display_name": "Python 3.8.5 64-bit ('venv': venv)",
   "name": "python3"
  },
  "language_info": {
   "codemirror_mode": {
    "name": "ipython",
    "version": 3
   },
   "file_extension": ".py",
   "mimetype": "text/x-python",
   "name": "python",
   "nbconvert_exporter": "python",
   "pygments_lexer": "ipython3",
   "version": "3.8.5"
  },
  "orig_nbformat": 4
 },
 "nbformat": 4,
 "nbformat_minor": 2
}
