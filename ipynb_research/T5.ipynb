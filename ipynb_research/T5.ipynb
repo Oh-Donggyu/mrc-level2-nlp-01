{
 "cells": [
  {
   "cell_type": "code",
   "execution_count": 17,
   "metadata": {},
   "outputs": [
    {
     "name": "stderr",
     "output_type": "stream",
     "text": [
      "2021-10-20 11:07:33.732956: I tensorflow/stream_executor/cuda/cuda_gpu_executor.cc:937] successful NUMA node read from SysFS had negative value (-1), but there must be at least one NUMA node, so returning NUMA node zero\n",
      "2021-10-20 11:07:33.738293: W tensorflow/stream_executor/platform/default/dso_loader.cc:64] Could not load dynamic library 'libcusolver.so.11'; dlerror: libcusolver.so.11: cannot open shared object file: No such file or directory\n",
      "2021-10-20 11:07:33.738888: W tensorflow/stream_executor/platform/default/dso_loader.cc:64] Could not load dynamic library 'libcudnn.so.8'; dlerror: libcudnn.so.8: cannot open shared object file: No such file or directory\n",
      "2021-10-20 11:07:33.738906: W tensorflow/core/common_runtime/gpu/gpu_device.cc:1835] Cannot dlopen some GPU libraries. Please make sure the missing libraries mentioned above are installed properly if you would like to use GPU. Follow the guide at https://www.tensorflow.org/install/gpu for how to download and setup the required libraries for your platform.\n",
      "Skipping registering GPU devices...\n",
      "2021-10-20 11:07:33.739704: I tensorflow/core/platform/cpu_feature_guard.cc:142] This TensorFlow binary is optimized with oneAPI Deep Neural Network Library (oneDNN) to use the following CPU instructions in performance-critical operations:  AVX2 FMA\n",
      "To enable them in other operations, rebuild TensorFlow with the appropriate compiler flags.\n"
     ]
    },
    {
     "name": "stdout",
     "output_type": "stream",
     "text": [
      "WARNING:tensorflow:Unable to create a python object for variable <tf.Variable 'shared/embedding:0' shape=(64128, 1024) dtype=bfloat16_ref> because it is a reference variable. It may not be visible to training APIs. If this is a problem, consider rebuilding the SavedModel after running tf.compat.v1.enable_resource_variables().\n",
      "WARNING:tensorflow:Unable to create a python object for variable <tf.Variable 'encoder/block_000/layer_000/rms_norm/scale:0' shape=(1024,) dtype=bfloat16_ref> because it is a reference variable. It may not be visible to training APIs. If this is a problem, consider rebuilding the SavedModel after running tf.compat.v1.enable_resource_variables().\n",
      "WARNING:tensorflow:Unable to create a python object for variable <tf.Variable 'encoder/block_000/layer_000/SelfAttention/q:0' shape=(1024, 1024) dtype=bfloat16_ref> because it is a reference variable. It may not be visible to training APIs. If this is a problem, consider rebuilding the SavedModel after running tf.compat.v1.enable_resource_variables().\n",
      "WARNING:tensorflow:Unable to create a python object for variable <tf.Variable 'encoder/block_000/layer_000/SelfAttention/k:0' shape=(1024, 1024) dtype=bfloat16_ref> because it is a reference variable. It may not be visible to training APIs. If this is a problem, consider rebuilding the SavedModel after running tf.compat.v1.enable_resource_variables().\n",
      "WARNING:tensorflow:Unable to create a python object for variable <tf.Variable 'encoder/block_000/layer_000/SelfAttention/v:0' shape=(1024, 1024) dtype=bfloat16_ref> because it is a reference variable. It may not be visible to training APIs. If this is a problem, consider rebuilding the SavedModel after running tf.compat.v1.enable_resource_variables().\n",
      "WARNING:tensorflow:Unable to create a python object for variable <tf.Variable 'shared/embedding:0' shape=(64128, 1024) dtype=bfloat16_ref> because it is a reference variable. It may not be visible to training APIs. If this is a problem, consider rebuilding the SavedModel after running tf.compat.v1.enable_resource_variables().\n",
      "WARNING:tensorflow:Unable to create a python object for variable <tf.Variable 'encoder/block_000/layer_000/rms_norm/scale:0' shape=(1024,) dtype=bfloat16_ref> because it is a reference variable. It may not be visible to training APIs. If this is a problem, consider rebuilding the SavedModel after running tf.compat.v1.enable_resource_variables().\n",
      "WARNING:tensorflow:Unable to create a python object for variable <tf.Variable 'encoder/block_000/layer_000/SelfAttention/q:0' shape=(1024, 1024) dtype=bfloat16_ref> because it is a reference variable. It may not be visible to training APIs. If this is a problem, consider rebuilding the SavedModel after running tf.compat.v1.enable_resource_variables().\n",
      "WARNING:tensorflow:Unable to create a python object for variable <tf.Variable 'encoder/block_000/layer_000/SelfAttention/k:0' shape=(1024, 1024) dtype=bfloat16_ref> because it is a reference variable. It may not be visible to training APIs. If this is a problem, consider rebuilding the SavedModel after running tf.compat.v1.enable_resource_variables().\n",
      "WARNING:tensorflow:Unable to create a python object for variable <tf.Variable 'encoder/block_000/layer_000/SelfAttention/v:0' shape=(1024, 1024) dtype=bfloat16_ref> because it is a reference variable. It may not be visible to training APIs. If this is a problem, consider rebuilding the SavedModel after running tf.compat.v1.enable_resource_variables().\n"
     ]
    },
    {
     "name": "stderr",
     "output_type": "stream",
     "text": [
      "2021-10-20 11:07:41.199524: I tensorflow/compiler/mlir/mlir_graph_optimization_pass.cc:185] None of the MLIR Optimization Passes are enabled (registered 2)\n"
     ]
    },
    {
     "name": "stdout",
     "output_type": "stream",
     "text": [
      "WARNING:tensorflow:Unable to create a python object for variable <tf.Variable 'shared/embedding:0' shape=(64128, 1024) dtype=bfloat16_ref> because it is a reference variable. It may not be visible to training APIs. If this is a problem, consider rebuilding the SavedModel after running tf.compat.v1.enable_resource_variables().\n",
      "WARNING:tensorflow:Unable to create a python object for variable <tf.Variable 'encoder/block_000/layer_000/rms_norm/scale:0' shape=(1024,) dtype=bfloat16_ref> because it is a reference variable. It may not be visible to training APIs. If this is a problem, consider rebuilding the SavedModel after running tf.compat.v1.enable_resource_variables().\n",
      "WARNING:tensorflow:Unable to create a python object for variable <tf.Variable 'encoder/block_000/layer_000/SelfAttention/q:0' shape=(1024, 1024) dtype=bfloat16_ref> because it is a reference variable. It may not be visible to training APIs. If this is a problem, consider rebuilding the SavedModel after running tf.compat.v1.enable_resource_variables().\n",
      "WARNING:tensorflow:Unable to create a python object for variable <tf.Variable 'encoder/block_000/layer_000/SelfAttention/k:0' shape=(1024, 1024) dtype=bfloat16_ref> because it is a reference variable. It may not be visible to training APIs. If this is a problem, consider rebuilding the SavedModel after running tf.compat.v1.enable_resource_variables().\n",
      "WARNING:tensorflow:Unable to create a python object for variable <tf.Variable 'encoder/block_000/layer_000/SelfAttention/v:0' shape=(1024, 1024) dtype=bfloat16_ref> because it is a reference variable. It may not be visible to training APIs. If this is a problem, consider rebuilding the SavedModel after running tf.compat.v1.enable_resource_variables().\n",
      "WARNING:tensorflow:Unable to create a python object for variable <tf.Variable 'shared/embedding:0' shape=(64128, 1024) dtype=bfloat16_ref> because it is a reference variable. It may not be visible to training APIs. If this is a problem, consider rebuilding the SavedModel after running tf.compat.v1.enable_resource_variables().\n",
      "WARNING:tensorflow:Unable to create a python object for variable <tf.Variable 'encoder/block_000/layer_000/rms_norm/scale:0' shape=(1024,) dtype=bfloat16_ref> because it is a reference variable. It may not be visible to training APIs. If this is a problem, consider rebuilding the SavedModel after running tf.compat.v1.enable_resource_variables().\n",
      "WARNING:tensorflow:Unable to create a python object for variable <tf.Variable 'encoder/block_000/layer_000/SelfAttention/q:0' shape=(1024, 1024) dtype=bfloat16_ref> because it is a reference variable. It may not be visible to training APIs. If this is a problem, consider rebuilding the SavedModel after running tf.compat.v1.enable_resource_variables().\n",
      "WARNING:tensorflow:Unable to create a python object for variable <tf.Variable 'encoder/block_000/layer_000/SelfAttention/k:0' shape=(1024, 1024) dtype=bfloat16_ref> because it is a reference variable. It may not be visible to training APIs. If this is a problem, consider rebuilding the SavedModel after running tf.compat.v1.enable_resource_variables().\n",
      "WARNING:tensorflow:Unable to create a python object for variable <tf.Variable 'encoder/block_000/layer_000/SelfAttention/v:0' shape=(1024, 1024) dtype=bfloat16_ref> because it is a reference variable. It may not be visible to training APIs. If this is a problem, consider rebuilding the SavedModel after running tf.compat.v1.enable_resource_variables().\n"
     ]
    }
   ],
   "source": [
    "import numpy as np\n",
    "import tensorflow as tf\n",
    "import tensorflow_text\n",
    "\n",
    "model_path = \"/opt/ml/ke-t5/downstream_exported/t5.1.1.large.gin.ke.ke_v100_span_corruption.ke_t5_nikl_summary_mixture_equal\"\n",
    "loaded = tf.saved_model.load(model_path)\n",
    "infer = loaded.signatures[\"serving_default\"]\n",
    "\n",
    "# source: https://news.naver.com/main/read.nhn?mode=LSD&mid=shm&sid1=102&oid=081&aid=0003173411\n",
    "# press: 서울신문(www.seoul.co.kr)\n",
    "# author: 이주원 기자 starjuwon@seoul.co.kr\n",
    "input_str = \"\"\"“처음에는 ‘금방 끝나겠지’라고 생각했는데 어느덧 100일이 됐네요. \\\n",
    "그동안 춥고 아프고 힘들었지만 인간으로서 대우를 받을 수만 있다면 끝까지 버틸 수 있습니다.” \\\n",
    "LG트윈타워 청소 노동자들이 고용승계를 주장하며 파업에 나선지 100일째를 하루 앞둔 24일 \\\n",
    "서울 여의도 LG트윈타워 앞 ‘행복한 고용승계 텐트촌’에서 만난 박상설(63)씨는 힘들었던 투쟁 과정을 \\\n",
    "회상하며 눈시울을 붉혔다. 박씨는 2017년부터 LG트윈타워에서 청소 노동을 했지만 지난 1월 1일부로 \\\n",
    "계약이 종료돼 직장을 떠났다. 자동차 소음과 불편한 잠자리로 텐트에서 매일 밤잠을 설치지만 투쟁을 \\\n",
    "포기할 수 없다고 한다. 그는 “LG가 그동안 사회적 책임과 정도경영을 강조해 왔기에 파업이 금방 끝날 \\\n",
    "줄 알았다”며 “버티지 못하고 점점 떠나는 동지들을 바라볼 때마다 마음이 아프지만 정당한 노동 권리를 \\\n",
    "인정받기 위해 끝까지 투쟁할 것”이라고 강조했다. 지난해 11월 26일부터 파업에 돌입한 청소 \\\n",
    "노동자들은 25일 파업 100일째를 맞는다. 건물 1층 로비에서 시위를 하던 25명의 청소 노동자들은 지난 \\\n",
    "22일부터 정문 앞 도보에 텐트촌을 설치하고 장소를 옮겼다. 파업 100일에 맞춰 25일까지 시민연대와 \\\n",
    "함께 텐트 100개를 설치하고 주·야간 연대 시위를 이어가겠다는 뜻에서다. 노동자들은 한 명이 간신히 \\\n",
    "누울 수 있는 크기의 텐트 안에서 딱딱한 시멘트 바닥에 몸을 기대 쪽잠을 청하고 있다. LG트윈타워를 \\\n",
    "관리하는 LG그룹 계열사 ‘에스엔아이코퍼레이션’은 지난해 말 ‘지수아이앤씨’와 청소 용역 계약을 \\\n",
    "끝내고 다른 업체와 새로 계약했다. 사측은 ‘품질 저하’를 이유로 들었다. 반면 노동자들은 2019년 \\\n",
    "노조를 결성하고 권리를 주장하기 시작하면서 사측 눈 밖에 났다고 주장한다. 그동안 업체가 \\\n",
    "변경되더라도 기존 업체 노동자들이 새 업체에 고용승계가 되는 게 관례였지만 새 업체는 고용승계를 \\\n",
    "보장할 수 없다고 밝혔다. 지난달까지 고용노동부 중재로 수차례 노사 교섭이 있었지만 상황은 달라지지 \\\n",
    "않았다. 사측은 대신 노동자들에게 다른 사업장에서 일을 하게 해주겠다고 권유했다. 하지만 노동자들은 \\\n",
    "노조를 인정하지 않는 대기업의 행태를 묵인한 채 사측의 권유에 따른다면 어느 사업장에서 일을 하던 \\\n",
    "똑같은 행태가 반복될 수밖에 없다고 목소리를 높인다. 때문에 반드시 LG트윈타워에서 정당한 권리를 \\\n",
    "인정받고 노동을 이어가야만 한다고 말한다. 이들은 구광모 LG그룹 회장이 나서 문제를 해결해야 한다고 \\\n",
    "주장한다. 이혜정 LG트윈타워 공동대책위원회 집행위원은 “구 회장이 책임있는 답변을 내놓을 때까지 \\\n",
    "시민사회 단위와 함께 결의를 담아 끝까지 텐트촌을 유지할 것”이라고 강조했다.\"\"\"\n",
    "\n",
    "input_str_topic = \"summarize_topic: \" + input_str\n",
    "input_str_summary = \"summarize_summary: \" + input_str\n",
    "\n",
    "x = tf.constant([input_str_topic])\n",
    "result = infer(x)\n"
   ]
  },
  {
   "cell_type": "code",
   "execution_count": 18,
   "metadata": {},
   "outputs": [],
   "source": [
    "from transformers import AutoTokenizer\n",
    "\n",
    "model_name = \"klue/roberta-large\"\n",
    "tokenizer = AutoTokenizer.from_pretrained(model_name)"
   ]
  },
  {
   "cell_type": "code",
   "execution_count": 23,
   "metadata": {},
   "outputs": [],
   "source": [
    "import json\n",
    "\n",
    "with open(\"../../data/wikipedia_documents.json\", \"r\", encoding='UTF-8') as json_data:\n",
    "  wiki_data = json.load(json_data)\n",
    "wiki_keys = wiki_data.keys()\n",
    "wiki_texts = []\n",
    "\n",
    "for key in wiki_keys:\n",
    "  wiki_texts.append(wiki_data[key])"
   ]
  },
  {
   "cell_type": "code",
   "execution_count": 34,
   "metadata": {},
   "outputs": [
    {
     "name": "stderr",
     "output_type": "stream",
     "text": [
      "2021-10-20 11:22:43.238400: I tensorflow/stream_executor/cuda/cuda_gpu_executor.cc:937] successful NUMA node read from SysFS had negative value (-1), but there must be at least one NUMA node, so returning NUMA node zero\n",
      "2021-10-20 11:22:43.239588: W tensorflow/core/common_runtime/gpu/gpu_device.cc:1835] Cannot dlopen some GPU libraries. Please make sure the missing libraries mentioned above are installed properly if you would like to use GPU. Follow the guide at https://www.tensorflow.org/install/gpu for how to download and setup the required libraries for your platform.\n",
      "Skipping registering GPU devices...\n"
     ]
    }
   ],
   "source": [
    "from tensorflow.python.client import device_lib\n",
    "\n",
    "with tf.device(\"/gpu:0\"):\n",
    "    device_lib.list_local_devices()\n"
   ]
  },
  {
   "cell_type": "code",
   "execution_count": 24,
   "metadata": {},
   "outputs": [],
   "source": [
    "def summary_sentence(context):\n",
    "    input_str = \"summarize: \" + context\n",
    "    x = tf.constant([input_str])\n",
    "\n",
    "    result = infer(x)\n",
    "    sm_sentence = [out.decode('utf-8') for out in result['outputs'].numpy()]\n",
    "    return sm_sentence"
   ]
  },
  {
   "cell_type": "code",
   "execution_count": 26,
   "metadata": {},
   "outputs": [],
   "source": [
    "k = tokenizer.tokenize(wiki_texts[2]['text'])"
   ]
  },
  {
   "cell_type": "markdown",
   "metadata": {},
   "source": [
    "wiki_origin\n",
    "{\n",
    "    '0': {\n",
    "        'text': '이순신장군은 조선 중기 무신이다.',\n",
    "        'document_id': 0,\n",
    "        'title': '임진왜란',\n",
    "    },\n",
    "    '1': {\n",
    "        'text': '이순신장군은 조선 중기 무신이다.',\n",
    "        'document_id': 0,\n",
    "        'title': '임진왜란',\n",
    "    },\n",
    "}\n",
    "\n",
    "wiki_text\n",
    "[\n",
    "    {\n",
    "        'text': '이순신장군은 조선 중기 무신이다.',\n",
    "        'document_id': 0,\n",
    "        'title': '임진왜란',\n",
    "        'key': 0\n",
    "    },\n",
    "    {\n",
    "        'text': '이순신장군은 조선 중기 무신이다.',\n",
    "        'document_id': 0,\n",
    "        'title': '임진왜란',\n",
    "        'key': 1\n",
    "    },\n",
    "]\n",
    "\n",
    "wiki_summary = {\n",
    "    '0': {\n",
    "        'text': '이순신장군은 조선 중기 무신이다.',\n",
    "        'document_id': 0,\n",
    "        'title': '임진왜란',\n",
    "    },\n",
    "    '1': {\n",
    "        'text': '이순신장군은 조선 중기 무신이다.',\n",
    "        'document_id': 0,\n",
    "        'title': '임진왜란',\n",
    "    },\n",
    "}"
   ]
  },
  {
   "cell_type": "code",
   "execution_count": null,
   "metadata": {},
   "outputs": [],
   "source": [
    "from tqdm import tqdm\n",
    "\n",
    "wiki_summary = {}\n",
    "\n",
    "for wiki_text in (tqdm(wiki_texts)):\n",
    "    context = wiki_text['text']\n",
    "    tokenized_context = tokenizer.tokenize(context)\n",
    "    wiki_target = {}\n",
    "    if len(tokenized_context) > 576:\n",
    "        wiki_target['text'] = summary_sentence(context)\n",
    "    else:\n",
    "        wiki_target['text'] = context\n",
    "    wiki_target['title'] = wiki_text['title']\n",
    "    wiki_target['document_id'] = wiki_text['document_id']\n",
    "    wiki_summary[wiki_text['key']] = wiki_target\n",
    "    "
   ]
  },
  {
   "cell_type": "code",
   "execution_count": null,
   "metadata": {},
   "outputs": [],
   "source": [
    "wiki_key = wiki_summary.keys()\n",
    "print(wiki_summary['2']['text'])"
   ]
  },
  {
   "cell_type": "code",
   "execution_count": null,
   "metadata": {},
   "outputs": [],
   "source": []
  }
 ],
 "metadata": {
  "interpreter": {
   "hash": "d4d1e4263499bec80672ea0156c357c1ee493ec2b1c70f0acce89fc37c4a6abe"
  },
  "kernelspec": {
   "display_name": "Python 3.8.5 64-bit ('base': conda)",
   "name": "python3"
  },
  "language_info": {
   "codemirror_mode": {
    "name": "ipython",
    "version": 3
   },
   "file_extension": ".py",
   "mimetype": "text/x-python",
   "name": "python",
   "nbconvert_exporter": "python",
   "pygments_lexer": "ipython3",
   "version": "3.8.5"
  },
  "orig_nbformat": 4
 },
 "nbformat": 4,
 "nbformat_minor": 2
}
