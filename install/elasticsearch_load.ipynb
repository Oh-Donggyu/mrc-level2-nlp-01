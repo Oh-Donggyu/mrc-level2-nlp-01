{
 "cells": [
  {
   "cell_type": "code",
   "execution_count": 2,
   "metadata": {},
   "outputs": [],
   "source": [
    "from datasets import load_from_disk\n",
    "\n",
    "wiki_datasets = load_from_disk(\"/opt/ml/data/wiki_datasets\")\n",
    "wiki_datasets.load_elasticsearch_index(\"context\", host=\"localhost\", port=\"9200\", es_index_name=\"wikipedia_contexts\")"
   ]
  },
  {
   "cell_type": "code",
   "execution_count": 3,
   "metadata": {},
   "outputs": [
    {
     "name": "stderr",
     "output_type": "stream",
     "text": [
      "/opt/ml/code/venv/lib/python3.8/site-packages/elasticsearch/connection/base.py:190: ElasticsearchDeprecationWarning: Elasticsearch built-in security features are not enabled. Without authentication, your cluster could be accessible to anyone. See https://www.elastic.co/guide/en/elasticsearch/reference/7.15/security-minimal-setup.html to enable security.\n",
      "  warnings.warn(message, category=ElasticsearchDeprecationWarning)\n"
     ]
    }
   ],
   "source": [
    "query = \"이순신 장군은 언제 태어났는가?\"\n",
    "scores, retrieved_examples = wiki_datasets.get_nearest_examples(\"context\", query, k=10)\n",
    "scores, retrieved_examples"
   ]
  },
  {
   "cell_type": "code",
   "execution_count": 1,
   "metadata": {},
   "outputs": [
    {
     "name": "stdout",
     "output_type": "stream",
     "text": [
      "{\"acknowledged\":true}"
     ]
    }
   ],
   "source": [
    "# 인덱스 제거하기\n",
    "!curl -XDELETE localhost:9200/wikipedia_contexts"
   ]
  }
 ],
 "metadata": {
  "interpreter": {
   "hash": "183d0bd6bd5f5f8a1935b39869a274d163ae85cdcaab739f67aabb2353cf6f5c"
  },
  "kernelspec": {
   "display_name": "Python 3.8.5 64-bit ('venv': venv)",
   "name": "python3"
  },
  "language_info": {
   "codemirror_mode": {
    "name": "ipython",
    "version": 3
   },
   "file_extension": ".py",
   "mimetype": "text/x-python",
   "name": "python",
   "nbconvert_exporter": "python",
   "pygments_lexer": "ipython3",
   "version": "3.8.5"
  },
  "orig_nbformat": 4
 },
 "nbformat": 4,
 "nbformat_minor": 2
}
