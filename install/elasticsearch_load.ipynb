{
 "cells": [
  {
   "cell_type": "code",
   "execution_count": null,
   "metadata": {},
   "outputs": [],
   "source": [
    "from datasets import load_from_disk\n",
    "\n",
    "wiki_datasets = load_from_disk(\"/opt/ml/data/wiki_datasets\")\n",
    "wiki_datasets.load_elasticsearch_index(\"context\", host=\"localhost\", port=\"9200\", es_index_name=\"wikipedia_contexts\")"
   ]
  },
  {
   "cell_type": "code",
   "execution_count": null,
   "metadata": {},
   "outputs": [],
   "source": [
    "query = \"이순신 장군은 언제 태어났는가?\"\n",
    "scores, retrieved_examples = wiki_datasets.get_nearest_examples(\"context\", query, k=10)"
   ]
  }
 ],
 "metadata": {
  "language_info": {
   "name": "python"
  },
  "orig_nbformat": 4
 },
 "nbformat": 4,
 "nbformat_minor": 2
}
