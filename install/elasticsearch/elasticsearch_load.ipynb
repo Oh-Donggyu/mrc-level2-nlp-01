{
 "cells": [
  {
   "cell_type": "code",
   "execution_count": 3,
   "metadata": {},
   "outputs": [],
   "source": [
    "from datasets import load_from_disk\n",
    "\n",
    "wiki_datasets = load_from_disk(\"/opt/ml/data/wiki_preprocessed_droped\")\n",
    "wiki_datasets.load_elasticsearch_index(\"text\", host=\"localhost\", port=\"9200\", es_index_name=\"wikipedia_contexts\")"
   ]
  },
  {
   "cell_type": "code",
   "execution_count": 4,
   "metadata": {},
   "outputs": [
    {
     "name": "stderr",
     "output_type": "stream",
     "text": [
      "/opt/conda/lib/python3.8/site-packages/elasticsearch/connection/base.py:209: ElasticsearchWarning: Elasticsearch built-in security features are not enabled. Without authentication, your cluster could be accessible to anyone. See https://www.elastic.co/guide/en/elasticsearch/reference/7.15/security-minimal-setup.html to enable security.\n",
      "  warnings.warn(message, category=ElasticsearchWarning)\n"
     ]
    },
    {
     "data": {
      "text/plain": [
       "([19.062613, 17.685795, 17.092789],\n",
       " {'document_id': [53233, 59378, 14383],\n",
       "  'title': ['AN/TPS-59', '피아노 소나타', '마리아 (하야테처럼!)'],\n",
       "  'text': ['1985년 AN/TPS-59 버전 1이 미국 해병대에 실전배치되었다.\\n\\n1998년 AN/TPS-59 버전 3이 미국 해병대에 실전배치되었다. 대당 가격은 5천만 달러이다. 적의 탄도 미사일도 추적할 수 있다.\\n\\n2017년 4월, 평택시 신장동 627-16 일원 4층짜리 빌라와 직선거리로 불과 50m밖에 떨어지지 않은 AN/TPS-59에 대해 주민들이 소음과 전자파 민원을 제기했다. 신장동 주민 최모(37)씨는 \"레이더가 설치된 이후 지능형 에어콘이 가동되지 않고 센서 전등은 오작동을 반복했다\"며 \"24시간 계속되는 소음 때문에 국방부와 평택시, 한미연합사에 항의 전화를 계속 했다\"고 밝혔다. 미국 해병대가 운영하는 대공 감시 레이더인 AN/TPS-59가 시끄러운 소음을 내며 회전하고 있었다.\\n\\n2017년 6월 26일, 오산공군기지의 지상 기반 레이더(AN/TPS-59)를 철거해 기지 내의 다른 지역으로 이동했다.\\n\\n2019년 현재 경기도 평택시 오산공군기지에 장거리 대공 감시 레이더(AN/TPS-59)와 패트리어트(PAC-3) 미사일이 배치되어 있다.\\n\\nAN/TPS-59는 울릉도에 배치된 AN/FPS-117과 비슷하다.\\n\\n미국 해병대가 사용중이며, 무게 20톤, 탐지거리 740 km, 탐지고도 15 km이며, 1980년대에 록히드 마틴이 개발했다.\\n\\n*AN/TPS-59, 록히드 마틴, 1980년 개발, D 밴드, 탐지거리 740 km, 3차원 위상배열 지대공 레이다\\n* AN/FPS-117, 록히드 마틴, 1980년 개발, L 밴드, 탐지거리 470 km, 3차원 위상배열 지대공 레이다',\n",
       "   '피아노 소나타는 피아노 독주에 의한 소나타이다. 원칙적으로 세 개 내지 네 개의 악장으로 이루어지며, 1악장은 소나타 형식이다. 그러나, 이 원칙에서 벗어나는 작품도 많다. 악장 수가 적은 것, 소나타 형식을 1악장에서 갖지 않고 다른 악장에서 갖는 것, 그리고 소나타 형식의 악장을 전혀 갖지 않는 것도 있다. \\n\\n(피아노를 위한) 소나타의 작은 규모의 것은 소나티네라고 부른다. 소나타 형식 대신 간략한 형태로 쓰여지는 소나티네 형식은, 2악장에서 3악장으로 구성된다. 악장 당 연주시간도 짧아 초보 피아노 연습용으로 사용되기도 하지만, 시벨리우스의 소나티네처럼 고도의 연주 기술을 요하는 연주도 있다.',\n",
       "   '산젠인 가의 시중을 드는 유능한 하우스 메이드. 현재는 하야테와 함께 나기의 시중을 들고 있다. 어느날 크리스마스 이브에 교회 마리아상 앞에서 주워졌다. 마리아란 이름도 여기서 따온 것으로 추측. 친부모나 본명, 가족 구성, 진짜 생일은 알 수 없음.\\n\\n4살 쯤에 산젠인 가에 들어오게 됐으며, 어릴 때부터 영재교육을 받아 왔고 하쿠오 학원에 10살에 입학. 1학년 때부터 2학년 때까지 학생회장을 맡았으며 해마다 최우수 학생에게만 주어지는 금시계를 3개 소유. 3년간 성적 톱으로 13살에 학교를 졸업했다. 덧붙여 1학년 때 학생회장이 된 것은 히나기쿠와 마리아 뿐이다.'],\n",
       "  '__index_level_0__': [53233, 59378, 14383]})"
      ]
     },
     "execution_count": 4,
     "metadata": {},
     "output_type": "execute_result"
    }
   ],
   "source": [
    "query = \"이순신 장군은 언제 태어났는가?\"\n",
    "scores, retrieved_examples = wiki_datasets.get_nearest_examples(\"text\", query, k=3)\n",
    "scores, retrieved_examples"
   ]
  },
  {
   "cell_type": "code",
   "execution_count": 10,
   "metadata": {},
   "outputs": [
    {
     "name": "stdout",
     "output_type": "stream",
     "text": [
      "{\"acknowledged\":true}"
     ]
    }
   ],
   "source": [
    "# 인덱스 제거하기\n",
    "!curl -XDELETE localhost:9200/wikipedia_contexts"
   ]
  },
  {
   "cell_type": "code",
   "execution_count": null,
   "metadata": {},
   "outputs": [],
   "source": []
  }
 ],
 "metadata": {
  "interpreter": {
   "hash": "d4d1e4263499bec80672ea0156c357c1ee493ec2b1c70f0acce89fc37c4a6abe"
  },
  "kernelspec": {
   "display_name": "Python 3.8.5 64-bit ('base': conda)",
   "name": "python3"
  },
  "language_info": {
   "codemirror_mode": {
    "name": "ipython",
    "version": 3
   },
   "file_extension": ".py",
   "mimetype": "text/x-python",
   "name": "python",
   "nbconvert_exporter": "python",
   "pygments_lexer": "ipython3",
   "version": "3.8.5"
  },
  "orig_nbformat": 4
 },
 "nbformat": 4,
 "nbformat_minor": 2
}
