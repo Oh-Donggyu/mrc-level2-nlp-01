{
 "cells": [
  {
   "cell_type": "code",
   "execution_count": 1,
   "metadata": {},
   "outputs": [],
   "source": [
    "from datasets import load_from_disk\n",
    "\n",
    "wiki_datasets = load_from_disk(\"/home/ubuntu/workspace/data/wiki_preprocessed_droped\")\n",
    "train_dataset = load_from_disk(\"/home/ubuntu/workspace/data/new_train_doc\")\n",
    "wiki_datasets.load_elasticsearch_index(\"text\", host=\"localhost\", port=\"9200\", es_index_name=\"wikipedia_contexts\")"
   ]
  },
  {
   "cell_type": "code",
   "execution_count": 2,
   "metadata": {},
   "outputs": [
    {
     "data": {
      "text/plain": [
       "DatasetDict({\n",
       "    train: Dataset({\n",
       "        features: ['__index_level_0__', 'answers', 'context', 'document_id', 'id', 'question', 'title', 'chunks'],\n",
       "        num_rows: 3351\n",
       "    })\n",
       "    validation: Dataset({\n",
       "        features: ['__index_level_0__', 'answers', 'context', 'document_id', 'id', 'question', 'title', 'chunks'],\n",
       "        num_rows: 841\n",
       "    })\n",
       "})"
      ]
     },
     "execution_count": 2,
     "metadata": {},
     "output_type": "execute_result"
    }
   ],
   "source": [
    "train_dataset"
   ]
  },
  {
   "cell_type": "code",
   "execution_count": 26,
   "metadata": {},
   "outputs": [],
   "source": [
    "import pandas as pd\n",
    "\n",
    "data = train_dataset['train'].to_pandas()"
   ]
  },
  {
   "cell_type": "code",
   "execution_count": 37,
   "metadata": {},
   "outputs": [
    {
     "data": {
      "text/html": [
       "<div>\n",
       "<style scoped>\n",
       "    .dataframe tbody tr th:only-of-type {\n",
       "        vertical-align: middle;\n",
       "    }\n",
       "\n",
       "    .dataframe tbody tr th {\n",
       "        vertical-align: top;\n",
       "    }\n",
       "\n",
       "    .dataframe thead th {\n",
       "        text-align: right;\n",
       "    }\n",
       "</style>\n",
       "<table border=\"1\" class=\"dataframe\">\n",
       "  <thead>\n",
       "    <tr style=\"text-align: right;\">\n",
       "      <th></th>\n",
       "      <th>id</th>\n",
       "      <th>result1</th>\n",
       "      <th>result2</th>\n",
       "      <th>result3</th>\n",
       "      <th>result4</th>\n",
       "      <th>result5</th>\n",
       "      <th>total</th>\n",
       "    </tr>\n",
       "  </thead>\n",
       "  <tbody>\n",
       "    <tr>\n",
       "      <th>0</th>\n",
       "      <td>mrc-0-003264</td>\n",
       "      <td>True</td>\n",
       "      <td>NaN</td>\n",
       "      <td>True</td>\n",
       "      <td>True</td>\n",
       "      <td>True</td>\n",
       "      <td>4.0</td>\n",
       "    </tr>\n",
       "    <tr>\n",
       "      <th>1</th>\n",
       "      <td>mrc-0-005256</td>\n",
       "      <td>True</td>\n",
       "      <td>NaN</td>\n",
       "      <td>True</td>\n",
       "      <td>True</td>\n",
       "      <td>True</td>\n",
       "      <td>4.0</td>\n",
       "    </tr>\n",
       "    <tr>\n",
       "      <th>2</th>\n",
       "      <td>mrc-0-003360</td>\n",
       "      <td>False</td>\n",
       "      <td>NaN</td>\n",
       "      <td>False</td>\n",
       "      <td>True</td>\n",
       "      <td>False</td>\n",
       "      <td>1.0</td>\n",
       "    </tr>\n",
       "    <tr>\n",
       "      <th>3</th>\n",
       "      <td>mrc-1-001432</td>\n",
       "      <td>True</td>\n",
       "      <td>NaN</td>\n",
       "      <td>False</td>\n",
       "      <td>False</td>\n",
       "      <td>False</td>\n",
       "      <td>1.0</td>\n",
       "    </tr>\n",
       "    <tr>\n",
       "      <th>4</th>\n",
       "      <td>mrc-0-003506</td>\n",
       "      <td>True</td>\n",
       "      <td>NaN</td>\n",
       "      <td>True</td>\n",
       "      <td>True</td>\n",
       "      <td>True</td>\n",
       "      <td>4.0</td>\n",
       "    </tr>\n",
       "    <tr>\n",
       "      <th>...</th>\n",
       "      <td>...</td>\n",
       "      <td>...</td>\n",
       "      <td>...</td>\n",
       "      <td>...</td>\n",
       "      <td>...</td>\n",
       "      <td>...</td>\n",
       "      <td>...</td>\n",
       "    </tr>\n",
       "    <tr>\n",
       "      <th>3346</th>\n",
       "      <td>mrc-0-000199</td>\n",
       "      <td>NaN</td>\n",
       "      <td>True</td>\n",
       "      <td>True</td>\n",
       "      <td>True</td>\n",
       "      <td>True</td>\n",
       "      <td>4.0</td>\n",
       "    </tr>\n",
       "    <tr>\n",
       "      <th>3347</th>\n",
       "      <td>mrc-0-001646</td>\n",
       "      <td>NaN</td>\n",
       "      <td>True</td>\n",
       "      <td>True</td>\n",
       "      <td>False</td>\n",
       "      <td>True</td>\n",
       "      <td>3.0</td>\n",
       "    </tr>\n",
       "    <tr>\n",
       "      <th>3348</th>\n",
       "      <td>mrc-0-000073</td>\n",
       "      <td>NaN</td>\n",
       "      <td>True</td>\n",
       "      <td>True</td>\n",
       "      <td>True</td>\n",
       "      <td>True</td>\n",
       "      <td>4.0</td>\n",
       "    </tr>\n",
       "    <tr>\n",
       "      <th>3349</th>\n",
       "      <td>mrc-0-003890</td>\n",
       "      <td>NaN</td>\n",
       "      <td>True</td>\n",
       "      <td>True</td>\n",
       "      <td>True</td>\n",
       "      <td>True</td>\n",
       "      <td>4.0</td>\n",
       "    </tr>\n",
       "    <tr>\n",
       "      <th>3350</th>\n",
       "      <td>mrc-0-002670</td>\n",
       "      <td>NaN</td>\n",
       "      <td>False</td>\n",
       "      <td>False</td>\n",
       "      <td>False</td>\n",
       "      <td>False</td>\n",
       "      <td>0.0</td>\n",
       "    </tr>\n",
       "  </tbody>\n",
       "</table>\n",
       "<p>3351 rows × 7 columns</p>\n",
       "</div>"
      ],
      "text/plain": [
       "                id result1 result2 result3 result4 result5  total\n",
       "0     mrc-0-003264    True     NaN    True    True    True    4.0\n",
       "1     mrc-0-005256    True     NaN    True    True    True    4.0\n",
       "2     mrc-0-003360   False     NaN   False    True   False    1.0\n",
       "3     mrc-1-001432    True     NaN   False   False   False    1.0\n",
       "4     mrc-0-003506    True     NaN    True    True    True    4.0\n",
       "...            ...     ...     ...     ...     ...     ...    ...\n",
       "3346  mrc-0-000199     NaN    True    True    True    True    4.0\n",
       "3347  mrc-0-001646     NaN    True    True   False    True    3.0\n",
       "3348  mrc-0-000073     NaN    True    True    True    True    4.0\n",
       "3349  mrc-0-003890     NaN    True    True    True    True    4.0\n",
       "3350  mrc-0-002670     NaN   False   False   False   False    0.0\n",
       "\n",
       "[3351 rows x 7 columns]"
      ]
     },
     "execution_count": 37,
     "metadata": {},
     "output_type": "execute_result"
    }
   ],
   "source": [
    "answers = pd.read_csv('d.csv')\n",
    "answers"
   ]
  },
  {
   "cell_type": "code",
   "execution_count": 27,
   "metadata": {},
   "outputs": [
    {
     "data": {
      "text/html": [
       "<div>\n",
       "<style scoped>\n",
       "    .dataframe tbody tr th:only-of-type {\n",
       "        vertical-align: middle;\n",
       "    }\n",
       "\n",
       "    .dataframe tbody tr th {\n",
       "        vertical-align: top;\n",
       "    }\n",
       "\n",
       "    .dataframe thead th {\n",
       "        text-align: right;\n",
       "    }\n",
       "</style>\n",
       "<table border=\"1\" class=\"dataframe\">\n",
       "  <thead>\n",
       "    <tr style=\"text-align: right;\">\n",
       "      <th></th>\n",
       "      <th>__index_level_0__</th>\n",
       "      <th>answers</th>\n",
       "      <th>context</th>\n",
       "      <th>document_id</th>\n",
       "      <th>id</th>\n",
       "      <th>question</th>\n",
       "      <th>title</th>\n",
       "      <th>chunks</th>\n",
       "    </tr>\n",
       "  </thead>\n",
       "  <tbody>\n",
       "    <tr>\n",
       "      <th>0</th>\n",
       "      <td>572</td>\n",
       "      <td>{'answer_start': [1021], 'text': ['1890년 5월 18...</td>\n",
       "      <td>중서서원에서 4년간 공부하며 윤치호는 개신교 선교사들의 영향을 받게 되었고, 중서서...</td>\n",
       "      <td>725</td>\n",
       "      <td>mrc-0-000857</td>\n",
       "      <td>윤치호가 조선이 문명국의 식민지가 되는 것이 낫다고 한 날은?</td>\n",
       "      <td>윤치호</td>\n",
       "      <td>[중서서원에서 4년간 공부하며 윤치호는 개신교 선교사들의 영향을 받게 되었고, 중서...</td>\n",
       "    </tr>\n",
       "    <tr>\n",
       "      <th>1</th>\n",
       "      <td>3210</td>\n",
       "      <td>{'answer_start': [9], 'text': ['무역']}</td>\n",
       "      <td>란돌포는 부자로 무역을 하기 위해 큰 배에 전재산을 털어 상품을 사서 키프로스 섬으...</td>\n",
       "      <td>25374</td>\n",
       "      <td>mrc-0-004943</td>\n",
       "      <td>란돌포가 전 재산을 투자한 상품으로 하고자 한 일은?</td>\n",
       "      <td>데카메론의 줄거리</td>\n",
       "      <td>[란돌포는 부자로 무역을 하기 위해 큰 배에 전재산을 털어 상품을 사서 키프로스 섬...</td>\n",
       "    </tr>\n",
       "    <tr>\n",
       "      <th>2</th>\n",
       "      <td>3257</td>\n",
       "      <td>{'answer_start': [761], 'text': ['1934년']}</td>\n",
       "      <td>1927년 고등학교 학생의 신분으로 실업 팀에 선발되어 친선 경기를 위해 일본을 방...</td>\n",
       "      <td>36586</td>\n",
       "      <td>mrc-0-005013</td>\n",
       "      <td>와카바야시의 추계 리그 3번째 우승은 몇 년인가?</td>\n",
       "      <td>와카바야시 다다시</td>\n",
       "      <td>[1927년 고등학교 학생의 신분으로 실업 팀에 선발되어 친선 경기를 위해 일본을 ...</td>\n",
       "    </tr>\n",
       "    <tr>\n",
       "      <th>3</th>\n",
       "      <td>754</td>\n",
       "      <td>{'answer_start': [174], 'text': ['임금']}</td>\n",
       "      <td>보상과 관련하여, 우선 '보상공정성'이 직무만족도에 영향을 주는 중요한 요인이다. ...</td>\n",
       "      <td>46589</td>\n",
       "      <td>mrc-1-001144</td>\n",
       "      <td>보상제도에 있어 가장 기본이 되는 것은?</td>\n",
       "      <td>직무 만족</td>\n",
       "      <td>[보상과 관련하여, 우선 '보상공정성'이 직무만족도에 영향을 주는 중요한 요인이다....</td>\n",
       "    </tr>\n",
       "    <tr>\n",
       "      <th>4</th>\n",
       "      <td>805</td>\n",
       "      <td>{'answer_start': [398], 'text': ['조지 호수']}</td>\n",
       "      <td>1757년 로던 경이 세운 작전은 1756년 9월에 영국 본국 정부에 제출되었고, ...</td>\n",
       "      <td>34592</td>\n",
       "      <td>mrc-1-001234</td>\n",
       "      <td>이안 스틸이 군에 최적화된 수로라고 말한 호수는?</td>\n",
       "      <td>윌리엄 헨리 요새 전투</td>\n",
       "      <td>[1757년 로던 경이 세운 작전은 1756년 9월에 영국 본국 정부에 제출되었고,...</td>\n",
       "    </tr>\n",
       "    <tr>\n",
       "      <th>...</th>\n",
       "      <td>...</td>\n",
       "      <td>...</td>\n",
       "      <td>...</td>\n",
       "      <td>...</td>\n",
       "      <td>...</td>\n",
       "      <td>...</td>\n",
       "      <td>...</td>\n",
       "      <td>...</td>\n",
       "    </tr>\n",
       "    <tr>\n",
       "      <th>3346</th>\n",
       "      <td>2034</td>\n",
       "      <td>{'answer_start': [202], 'text': ['1948년']}</td>\n",
       "      <td>1945년 8·15 광복 직후 한국으로 귀국하였고 이화여자중학교에 피겨 특기생으로 ...</td>\n",
       "      <td>24094</td>\n",
       "      <td>mrc-0-003087</td>\n",
       "      <td>한국에서 처음으로 여자 피겨 선수권 대회 1등을 배출한 해는?</td>\n",
       "      <td>홍용명</td>\n",
       "      <td>[1945년 8·15 광복 직후 한국으로 귀국하였고 이화여자중학교에 피겨 특기생으로...</td>\n",
       "    </tr>\n",
       "    <tr>\n",
       "      <th>3347</th>\n",
       "      <td>2226</td>\n",
       "      <td>{'answer_start': [875], 'text': ['윤덕원']}</td>\n",
       "      <td>어린 시절 음반 콜렉터였던 삼촌을 통해 음악을 많이 듣게 되었다. 고등학교 때 취미...</td>\n",
       "      <td>44767</td>\n",
       "      <td>mrc-0-003393</td>\n",
       "      <td>술탄이라는 이름의 아이디어를 제공한 사람은?</td>\n",
       "      <td>나잠 수</td>\n",
       "      <td>[어린 시절 음반 콜렉터였던 삼촌을 통해 음악을 많이 듣게 되었다. 고등학교 때 취...</td>\n",
       "    </tr>\n",
       "    <tr>\n",
       "      <th>3348</th>\n",
       "      <td>254</td>\n",
       "      <td>{'answer_start': [1531], 'text': ['미국 대통령 버락 오...</td>\n",
       "      <td>빌리 진은 1965년 9월 17일 캘리포니아 주 롱비치에서 래리 킹과 결혼하였다. ...</td>\n",
       "      <td>20430</td>\n",
       "      <td>mrc-1-000393</td>\n",
       "      <td>빌리 진 킹은 누구 덕분에 미국 대표단의 대표로 올림픽에 참가할 수 있었나?</td>\n",
       "      <td>빌리 진 킹</td>\n",
       "      <td>[빌리 진은 1965년 9월 17일 캘리포니아 주 롱비치에서 래리 킹과 결혼하였다....</td>\n",
       "    </tr>\n",
       "    <tr>\n",
       "      <th>3349</th>\n",
       "      <td>721</td>\n",
       "      <td>{'answer_start': [170], 'text': ['스타다 코난족']}</td>\n",
       "      <td>전쟁의 기원에 대한 기록은 1540년대에 자크 카르티에가 세인트 로렌스 골짜기를 항...</td>\n",
       "      <td>15206</td>\n",
       "      <td>mrc-0-001089</td>\n",
       "      <td>토우다만 족으로 알려진 종족과 싸운 것은 누구인가?</td>\n",
       "      <td>비버 전쟁</td>\n",
       "      <td>[전쟁의 기원에 대한 기록은 1540년대에 자크 카르티에가 세인트 로렌스 골짜기를 ...</td>\n",
       "    </tr>\n",
       "    <tr>\n",
       "      <th>3350</th>\n",
       "      <td>2883</td>\n",
       "      <td>{'answer_start': [141], 'text': ['27 C']}</td>\n",
       "      <td>무루무루 버터에는 라우르산, 미리스트산, 올레산을 포함하고 있다. 과일에는 무취 무...</td>\n",
       "      <td>56201</td>\n",
       "      <td>mrc-0-004416</td>\n",
       "      <td>응고되어 있는 코코넛 오일이 녹기 시작하는 온도는?</td>\n",
       "      <td>아스트로카리움 무루무루</td>\n",
       "      <td>[무루무루 버터에는 라우르산, 미리스트산, 올레산을 포함하고 있다. 과일에는 무취 ...</td>\n",
       "    </tr>\n",
       "  </tbody>\n",
       "</table>\n",
       "<p>3351 rows × 8 columns</p>\n",
       "</div>"
      ],
      "text/plain": [
       "      __index_level_0__                                            answers  \\\n",
       "0                   572  {'answer_start': [1021], 'text': ['1890년 5월 18...   \n",
       "1                  3210              {'answer_start': [9], 'text': ['무역']}   \n",
       "2                  3257         {'answer_start': [761], 'text': ['1934년']}   \n",
       "3                   754            {'answer_start': [174], 'text': ['임금']}   \n",
       "4                   805         {'answer_start': [398], 'text': ['조지 호수']}   \n",
       "...                 ...                                                ...   \n",
       "3346               2034         {'answer_start': [202], 'text': ['1948년']}   \n",
       "3347               2226           {'answer_start': [875], 'text': ['윤덕원']}   \n",
       "3348                254  {'answer_start': [1531], 'text': ['미국 대통령 버락 오...   \n",
       "3349                721       {'answer_start': [170], 'text': ['스타다 코난족']}   \n",
       "3350               2883          {'answer_start': [141], 'text': ['27 C']}   \n",
       "\n",
       "                                                context  document_id  \\\n",
       "0     중서서원에서 4년간 공부하며 윤치호는 개신교 선교사들의 영향을 받게 되었고, 중서서...          725   \n",
       "1     란돌포는 부자로 무역을 하기 위해 큰 배에 전재산을 털어 상품을 사서 키프로스 섬으...        25374   \n",
       "2     1927년 고등학교 학생의 신분으로 실업 팀에 선발되어 친선 경기를 위해 일본을 방...        36586   \n",
       "3     보상과 관련하여, 우선 '보상공정성'이 직무만족도에 영향을 주는 중요한 요인이다. ...        46589   \n",
       "4     1757년 로던 경이 세운 작전은 1756년 9월에 영국 본국 정부에 제출되었고, ...        34592   \n",
       "...                                                 ...          ...   \n",
       "3346  1945년 8·15 광복 직후 한국으로 귀국하였고 이화여자중학교에 피겨 특기생으로 ...        24094   \n",
       "3347  어린 시절 음반 콜렉터였던 삼촌을 통해 음악을 많이 듣게 되었다. 고등학교 때 취미...        44767   \n",
       "3348  빌리 진은 1965년 9월 17일 캘리포니아 주 롱비치에서 래리 킹과 결혼하였다. ...        20430   \n",
       "3349  전쟁의 기원에 대한 기록은 1540년대에 자크 카르티에가 세인트 로렌스 골짜기를 항...        15206   \n",
       "3350  무루무루 버터에는 라우르산, 미리스트산, 올레산을 포함하고 있다. 과일에는 무취 무...        56201   \n",
       "\n",
       "                id                                    question         title  \\\n",
       "0     mrc-0-000857          윤치호가 조선이 문명국의 식민지가 되는 것이 낫다고 한 날은?           윤치호   \n",
       "1     mrc-0-004943               란돌포가 전 재산을 투자한 상품으로 하고자 한 일은?     데카메론의 줄거리   \n",
       "2     mrc-0-005013                 와카바야시의 추계 리그 3번째 우승은 몇 년인가?     와카바야시 다다시   \n",
       "3     mrc-1-001144                      보상제도에 있어 가장 기본이 되는 것은?         직무 만족   \n",
       "4     mrc-1-001234                 이안 스틸이 군에 최적화된 수로라고 말한 호수는?  윌리엄 헨리 요새 전투   \n",
       "...            ...                                         ...           ...   \n",
       "3346  mrc-0-003087          한국에서 처음으로 여자 피겨 선수권 대회 1등을 배출한 해는?           홍용명   \n",
       "3347  mrc-0-003393                    술탄이라는 이름의 아이디어를 제공한 사람은?          나잠 수   \n",
       "3348  mrc-1-000393  빌리 진 킹은 누구 덕분에 미국 대표단의 대표로 올림픽에 참가할 수 있었나?        빌리 진 킹   \n",
       "3349  mrc-0-001089                토우다만 족으로 알려진 종족과 싸운 것은 누구인가?         비버 전쟁   \n",
       "3350  mrc-0-004416                응고되어 있는 코코넛 오일이 녹기 시작하는 온도는?  아스트로카리움 무루무루   \n",
       "\n",
       "                                                 chunks  \n",
       "0     [중서서원에서 4년간 공부하며 윤치호는 개신교 선교사들의 영향을 받게 되었고, 중서...  \n",
       "1     [란돌포는 부자로 무역을 하기 위해 큰 배에 전재산을 털어 상품을 사서 키프로스 섬...  \n",
       "2     [1927년 고등학교 학생의 신분으로 실업 팀에 선발되어 친선 경기를 위해 일본을 ...  \n",
       "3     [보상과 관련하여, 우선 '보상공정성'이 직무만족도에 영향을 주는 중요한 요인이다....  \n",
       "4     [1757년 로던 경이 세운 작전은 1756년 9월에 영국 본국 정부에 제출되었고,...  \n",
       "...                                                 ...  \n",
       "3346  [1945년 8·15 광복 직후 한국으로 귀국하였고 이화여자중학교에 피겨 특기생으로...  \n",
       "3347  [어린 시절 음반 콜렉터였던 삼촌을 통해 음악을 많이 듣게 되었다. 고등학교 때 취...  \n",
       "3348  [빌리 진은 1965년 9월 17일 캘리포니아 주 롱비치에서 래리 킹과 결혼하였다....  \n",
       "3349  [전쟁의 기원에 대한 기록은 1540년대에 자크 카르티에가 세인트 로렌스 골짜기를 ...  \n",
       "3350  [무루무루 버터에는 라우르산, 미리스트산, 올레산을 포함하고 있다. 과일에는 무취 ...  \n",
       "\n",
       "[3351 rows x 8 columns]"
      ]
     },
     "execution_count": 27,
     "metadata": {},
     "output_type": "execute_result"
    }
   ],
   "source": [
    "data"
   ]
  },
  {
   "cell_type": "code",
   "execution_count": 40,
   "metadata": {},
   "outputs": [],
   "source": [
    "\n",
    "from sklearn.model_selection import StratifiedKFold\n",
    "\n",
    "def get_stratified_K_fold(dataset: pd.DataFrame, num):\n",
    "    \"\"\"\n",
    "    stratified_K_fold를 구현하였습니다.\n",
    "    n_splits은 몇개로 나눌것인지를 의미합니다.\n",
    "    num은 n_splits으로 나눴을때 몇번째 데이터를 가져올지를 의미합니다.\n",
    "    shuffle은 랜덤하게 나눕니다. 이때는 num을 사용하지않고 무조건 1번째것을 가져옵니다.\n",
    "    \"\"\"\n",
    "    skf = StratifiedKFold(4)\n",
    "    k_fold_data = list(skf.split(dataset, dataset[\"total\"]))\n",
    "    train_index, valid_index = (\n",
    "        k_fold_data[num][0],\n",
    "        k_fold_data[num][1],\n",
    "    )\n",
    "    return dataset.iloc[train_index], dataset.iloc[valid_index]\n"
   ]
  },
  {
   "cell_type": "code",
   "execution_count": 49,
   "metadata": {},
   "outputs": [],
   "source": [
    "_, result1 = get_stratified_K_fold(answers, 0)\n",
    "_, result2 = get_stratified_K_fold(answers, 1)\n",
    "_, result3 = get_stratified_K_fold(answers, 2)\n",
    "_, result4 = get_stratified_K_fold(answers, 3)"
   ]
  },
  {
   "cell_type": "code",
   "execution_count": 52,
   "metadata": {},
   "outputs": [],
   "source": [
    "valid1_id = list(result1['id'])\n",
    "valid2_id = list(result2['id'])\n",
    "valid3_id = list(result3['id'])\n",
    "valid4_id = list(result4['id'])"
   ]
  },
  {
   "cell_type": "code",
   "execution_count": 75,
   "metadata": {},
   "outputs": [],
   "source": [
    "def split_train_valid(datasets, valid, valid_id):\n",
    "  valid_dataset = datasets.filter(lambda x: x['id'] in valid_id)\n",
    "  train_dataset = datasets.filter(lambda x: x['id'] not in valid_id)\n",
    "  columns = ['context', 'question', 'id', 'title', 'document_id', 'answers']\n",
    "  train_datadict = {}\n",
    "  for col in columns:\n",
    "    train_datadict[col] = []\n",
    "  for data in train_dataset:\n",
    "    for column in columns:\n",
    "      train_datadict[column].append(data[column])\n",
    "  for data in valid:\n",
    "    for column in columns:\n",
    "      train_datadict[column].append(data[column])\n",
    "  return train_dataset, valid_dataset"
   ]
  },
  {
   "cell_type": "code",
   "execution_count": 84,
   "metadata": {},
   "outputs": [
    {
     "data": {
      "application/vnd.jupyter.widget-view+json": {
       "model_id": "19fd9f02c09e43388f040d5914f06f19",
       "version_major": 2,
       "version_minor": 0
      },
      "text/plain": [
       "  0%|          | 0/4 [00:00<?, ?ba/s]"
      ]
     },
     "metadata": {},
     "output_type": "display_data"
    },
    {
     "data": {
      "application/vnd.jupyter.widget-view+json": {
       "model_id": "9240b0e8f4fc4423befd17bc121e033d",
       "version_major": 2,
       "version_minor": 0
      },
      "text/plain": [
       "  0%|          | 0/4 [00:00<?, ?ba/s]"
      ]
     },
     "metadata": {},
     "output_type": "display_data"
    }
   ],
   "source": [
    "result = split_train_valid(train_dataset['train'], train_dataset['validation'], valid4_id)"
   ]
  },
  {
   "cell_type": "code",
   "execution_count": 85,
   "metadata": {},
   "outputs": [
    {
     "data": {
      "text/plain": [
       "(Dataset({\n",
       "     features: ['__index_level_0__', 'answers', 'context', 'document_id', 'id', 'question', 'title', 'chunks'],\n",
       "     num_rows: 2514\n",
       " }),\n",
       " Dataset({\n",
       "     features: ['__index_level_0__', 'answers', 'context', 'document_id', 'id', 'question', 'title', 'chunks'],\n",
       "     num_rows: 837\n",
       " }))"
      ]
     },
     "execution_count": 85,
     "metadata": {},
     "output_type": "execute_result"
    }
   ],
   "source": [
    "result"
   ]
  },
  {
   "cell_type": "code",
   "execution_count": 86,
   "metadata": {},
   "outputs": [],
   "source": [
    "import random\n",
    "\n",
    "hard_sample = []\n",
    "\n",
    "def ds_data_function(data):\n",
    "  query = data['question']\n",
    "  negative_contexts = []\n",
    "  _, retrieved_examples = wiki_datasets.get_nearest_examples(\"text\", query, k=100)\n",
    "  if data['document_id'] not in retrieved_examples['document_id']:\n",
    "    hard_sample.append([data, retrieved_examples])\n",
    "  for index in range(50):\n",
    "    if retrieved_examples['document_id'][index] == data['document_id']:\n",
    "      continue\n",
    "    negative_contexts.append(retrieved_examples['text'][index])\n",
    "    if len(negative_contexts) == 9:\n",
    "      break\n",
    "  random.shuffle(negative_contexts)\n",
    "  index = random.randint(0, 9)\n",
    "  negative_contexts.insert(index, data['context'])\n",
    "  answer_index = data['answers']['answer_start'][0]\n",
    "  for negative_index in range(index):\n",
    "    answer_index += len(negative_contexts[negative_index])\n",
    "  data['answers']['answer_start'][0] = answer_index + index\n",
    "  data['context'] = \" \".join(negative_contexts)\n",
    "  return data"
   ]
  },
  {
   "cell_type": "code",
   "execution_count": 87,
   "metadata": {},
   "outputs": [
    {
     "name": "stderr",
     "output_type": "stream",
     "text": [
      "/home/ubuntu/workspace/mrc_venv/lib/python3.8/site-packages/elasticsearch/connection/base.py:209: ElasticsearchWarning: Elasticsearch built-in security features are not enabled. Without authentication, your cluster could be accessible to anyone. See https://www.elastic.co/guide/en/elasticsearch/reference/7.15/security-minimal-setup.html to enable security.\n",
      "  warnings.warn(message, category=ElasticsearchWarning)\n",
      "/home/ubuntu/workspace/mrc_venv/lib/python3.8/site-packages/elasticsearch/connection/base.py:209: ElasticsearchWarning: Elasticsearch built-in security features are not enabled. Without authentication, your cluster could be accessible to anyone. See https://www.elastic.co/guide/en/elasticsearch/reference/7.15/security-minimal-setup.html to enable security.\n",
      "  warnings.warn(message, category=ElasticsearchWarning)\n",
      "/home/ubuntu/workspace/mrc_venv/lib/python3.8/site-packages/elasticsearch/connection/base.py:209: ElasticsearchWarning: Elasticsearch built-in security features are not enabled. Without authentication, your cluster could be accessible to anyone. See https://www.elastic.co/guide/en/elasticsearch/reference/7.15/security-minimal-setup.html to enable security.\n",
      "  warnings.warn(message, category=ElasticsearchWarning)\n",
      "/home/ubuntu/workspace/mrc_venv/lib/python3.8/site-packages/elasticsearch/connection/base.py:209: ElasticsearchWarning: Elasticsearch built-in security features are not enabled. Without authentication, your cluster could be accessible to anyone. See https://www.elastic.co/guide/en/elasticsearch/reference/7.15/security-minimal-setup.html to enable security.\n",
      "  warnings.warn(message, category=ElasticsearchWarning)\n",
      "/home/ubuntu/workspace/mrc_venv/lib/python3.8/site-packages/elasticsearch/connection/base.py:209: ElasticsearchWarning: Elasticsearch built-in security features are not enabled. Without authentication, your cluster could be accessible to anyone. See https://www.elastic.co/guide/en/elasticsearch/reference/7.15/security-minimal-setup.html to enable security.\n",
      "  warnings.warn(message, category=ElasticsearchWarning)\n",
      "/home/ubuntu/workspace/mrc_venv/lib/python3.8/site-packages/elasticsearch/connection/base.py:209: ElasticsearchWarning: Elasticsearch built-in security features are not enabled. Without authentication, your cluster could be accessible to anyone. See https://www.elastic.co/guide/en/elasticsearch/reference/7.15/security-minimal-setup.html to enable security.\n",
      "  warnings.warn(message, category=ElasticsearchWarning)\n",
      "/home/ubuntu/workspace/mrc_venv/lib/python3.8/site-packages/elasticsearch/connection/base.py:209: ElasticsearchWarning: Elasticsearch built-in security features are not enabled. Without authentication, your cluster could be accessible to anyone. See https://www.elastic.co/guide/en/elasticsearch/reference/7.15/security-minimal-setup.html to enable security.\n",
      "  warnings.warn(message, category=ElasticsearchWarning)\n",
      "/home/ubuntu/workspace/mrc_venv/lib/python3.8/site-packages/elasticsearch/connection/base.py:209: ElasticsearchWarning: Elasticsearch built-in security features are not enabled. Without authentication, your cluster could be accessible to anyone. See https://www.elastic.co/guide/en/elasticsearch/reference/7.15/security-minimal-setup.html to enable security.\n",
      "  warnings.warn(message, category=ElasticsearchWarning)\n"
     ]
    }
   ],
   "source": [
    "new_train_dataset = result[0].map(ds_data_function, num_proc=4)\n",
    "new_valid_dataset = result[1].map(ds_data_function, num_proc=4)"
   ]
  },
  {
   "cell_type": "code",
   "execution_count": 88,
   "metadata": {},
   "outputs": [
    {
     "data": {
      "text/plain": [
       "0"
      ]
     },
     "execution_count": 88,
     "metadata": {},
     "output_type": "execute_result"
    }
   ],
   "source": [
    "len(hard_sample)"
   ]
  },
  {
   "cell_type": "code",
   "execution_count": 89,
   "metadata": {},
   "outputs": [
    {
     "data": {
      "application/vnd.jupyter.widget-view+json": {
       "model_id": "ab1c3438b5a34730845b8c10e4864597",
       "version_major": 2,
       "version_minor": 0
      },
      "text/plain": [
       "  0%|          | 0/3 [00:00<?, ?ba/s]"
      ]
     },
     "metadata": {},
     "output_type": "display_data"
    }
   ],
   "source": [
    "search_error = new_train_dataset.filter(lambda example: example['context'][example['answers']['answer_start'][0]:example['answers']['answer_start'][0]+len(example['answers']['text'][0])] != example['answers']['text'][0])"
   ]
  },
  {
   "cell_type": "code",
   "execution_count": 90,
   "metadata": {},
   "outputs": [
    {
     "data": {
      "text/plain": [
       "Dataset({\n",
       "    features: ['__index_level_0__', 'answers', 'context', 'document_id', 'id', 'question', 'title', 'chunks'],\n",
       "    num_rows: 0\n",
       "})"
      ]
     },
     "execution_count": 90,
     "metadata": {},
     "output_type": "execute_result"
    }
   ],
   "source": [
    "search_error"
   ]
  },
  {
   "cell_type": "code",
   "execution_count": 91,
   "metadata": {},
   "outputs": [],
   "source": [
    "from datasets import DatasetDict\n",
    "\n",
    "data = {\n",
    "  'train': new_train_dataset,\n",
    "  'validation': train_dataset['validation']\n",
    "}\n",
    "train = DatasetDict(data)\n",
    "train.save_to_disk('new_ds_train_datasets5') # 저장위치"
   ]
  }
 ],
 "metadata": {
  "interpreter": {
   "hash": "bac68cbaab3d35a4051d1e6f867fd4af3051b6908d059b1a63e6857e32e52681"
  },
  "kernelspec": {
   "display_name": "Python 3.8.9 64-bit ('mrc_venv': venv)",
   "name": "python3"
  },
  "language_info": {
   "codemirror_mode": {
    "name": "ipython",
    "version": 3
   },
   "file_extension": ".py",
   "mimetype": "text/x-python",
   "name": "python",
   "nbconvert_exporter": "python",
   "pygments_lexer": "ipython3",
   "version": "3.8.9"
  },
  "orig_nbformat": 4
 },
 "nbformat": 4,
 "nbformat_minor": 2
}
