{
 "cells": [
  {
   "cell_type": "code",
   "execution_count": 1,
   "metadata": {},
   "outputs": [],
   "source": [
    "from src.retrievals.sparse import KomoranRetrieval, OktRetrieval, TokenizerRetrieval, ElasticSearchRetrieval"
   ]
  },
  {
   "cell_type": "code",
   "execution_count": 2,
   "metadata": {},
   "outputs": [],
   "source": [
    "from datasets import load_from_disk"
   ]
  },
  {
   "cell_type": "code",
   "execution_count": 3,
   "metadata": {},
   "outputs": [],
   "source": [
    "datasets = load_from_disk(\"../data/new_train_doc\")"
   ]
  },
  {
   "cell_type": "code",
   "execution_count": 4,
   "metadata": {},
   "outputs": [],
   "source": [
    "retrieval = ElasticSearchRetrieval(data_path='../data')\n",
    "retrieval.get_sparse_embedding()"
   ]
  },
  {
   "cell_type": "code",
   "execution_count": 5,
   "metadata": {},
   "outputs": [
    {
     "name": "stderr",
     "output_type": "stream",
     "text": [
      "  0%|          | 0/841 [00:00<?, ?it/s]/home/ubuntu/workspace/mrc_venv/lib/python3.8/site-packages/elasticsearch/connection/base.py:209: ElasticsearchWarning: Elasticsearch built-in security features are not enabled. Without authentication, your cluster could be accessible to anyone. See https://www.elastic.co/guide/en/elasticsearch/reference/7.15/security-minimal-setup.html to enable security.\n",
      "  warnings.warn(message, category=ElasticsearchWarning)\n",
      "100%|██████████| 841/841 [00:22<00:00, 36.75it/s]\n"
     ]
    }
   ],
   "source": [
    "from tqdm import tqdm\n",
    "\n",
    "k = 10\n",
    "score = 0\n",
    "correct_examples = []\n",
    "wrong_set = []\n",
    "for i, data in enumerate(tqdm(datasets['validation'])):\n",
    "  query = data['question']\n",
    "  # query = \" \".join(map(lambda x: x[0], filter(lambda x: x[1] == 'NNP' or 'NNG', mecab.pos(query))))\n",
    "  scores, retrieved_examples = retrieval.get_relevant_doc(query, k=k)\n",
    "  if data['context'] in retrieved_examples:\n",
    "    correct_examples.append(retrieved_examples)\n",
    "    score += 1\n",
    "  else: \n",
    "    wrong_set.append(data)"
   ]
  },
  {
   "cell_type": "code",
   "execution_count": 6,
   "metadata": {},
   "outputs": [
    {
     "data": {
      "text/plain": [
       "89.53626634958383"
      ]
     },
     "execution_count": 6,
     "metadata": {},
     "output_type": "execute_result"
    }
   ],
   "source": [
    "score/len(datasets['validation']) * 100"
   ]
  },
  {
   "cell_type": "markdown",
   "metadata": {},
   "source": [
    "- 코모란 : top10 88.46611177170035\n",
    "- Okt : top10 90.24970273483947\n",
    "- xlm-roberta-large : top10 74.19738406658739\n",
    "- klue-roberta-large : top10 87.63376932223544\n",
    "- koelectra-v3 : top10 87.99048751486326\n",
    "- elasticsearch : top10 89.53626634958383"
   ]
  }
 ],
 "metadata": {
  "interpreter": {
   "hash": "bac68cbaab3d35a4051d1e6f867fd4af3051b6908d059b1a63e6857e32e52681"
  },
  "kernelspec": {
   "display_name": "Python 3.8.9 64-bit ('mrc_venv': venv)",
   "name": "python3"
  },
  "language_info": {
   "codemirror_mode": {
    "name": "ipython",
    "version": 3
   },
   "file_extension": ".py",
   "mimetype": "text/x-python",
   "name": "python",
   "nbconvert_exporter": "python",
   "pygments_lexer": "ipython3",
   "version": "3.8.9"
  },
  "orig_nbformat": 4
 },
 "nbformat": 4,
 "nbformat_minor": 2
}
