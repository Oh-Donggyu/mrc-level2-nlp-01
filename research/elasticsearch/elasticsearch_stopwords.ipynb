{
 "cells": [
  {
   "cell_type": "code",
   "execution_count": 44,
   "metadata": {},
   "outputs": [
    {
     "data": {
      "text/plain": [
       "Dataset({\n",
       "    features: ['document_id', 'title', 'context'],\n",
       "    num_rows: 60613\n",
       "})"
      ]
     },
     "execution_count": 44,
     "metadata": {},
     "output_type": "execute_result"
    }
   ],
   "source": [
    "from datasets import load_from_disk\n",
    "\n",
    "datasets = load_from_disk(\"/opt/ml/data/wiki_datasets\")\n",
    "datasets"
   ]
  },
  {
   "cell_type": "code",
   "execution_count": 39,
   "metadata": {},
   "outputs": [],
   "source": [
    "from konlpy.tag import Komoran, Okt, Hannanum\n",
    "\n",
    "komoran = Komoran()\n",
    "okt = Okt()\n",
    "han = Hannanum()"
   ]
  },
  {
   "cell_type": "code",
   "execution_count": 34,
   "metadata": {},
   "outputs": [
    {
     "data": {
      "text/plain": [
       "Dataset({\n",
       "    features: ['document_id', 'title', 'context'],\n",
       "    num_rows: 60613\n",
       "})"
      ]
     },
     "execution_count": 34,
     "metadata": {},
     "output_type": "execute_result"
    }
   ],
   "source": [
    "datasets"
   ]
  },
  {
   "cell_type": "code",
   "execution_count": 41,
   "metadata": {},
   "outputs": [
    {
     "data": {
      "text/plain": [
       "[('같이는커녕', 'Josa')]"
      ]
     },
     "execution_count": 41,
     "metadata": {},
     "output_type": "execute_result"
    }
   ],
   "source": [
    "okt.pos('같이는커녕')"
   ]
  },
  {
   "cell_type": "code",
   "execution_count": 36,
   "metadata": {},
   "outputs": [
    {
     "data": {
      "text/plain": [
       "[('같이', 'MAG'), ('는커녕', 'JX')]"
      ]
     },
     "execution_count": 36,
     "metadata": {},
     "output_type": "execute_result"
    }
   ],
   "source": [
    "komoran.pos('같이는커녕')"
   ]
  },
  {
   "cell_type": "code",
   "execution_count": 60,
   "metadata": {},
   "outputs": [],
   "source": [
    "okt_tag = ['Determiner', 'Adverb', 'Conjunction','Exclamation','Josa','PreEomi','Eomi','Suffix']\n",
    "komoran_tag = ['MM','MAG','MAJ','IC','JKS','JKC','JKG','JKO','JKB','JKV','JKQ','JC','JX','EP','EF','EC','ETN','ETM','XPN','XSN','XSV','XSA','SE','SS','SP']"
   ]
  },
  {
   "cell_type": "code",
   "execution_count": 48,
   "metadata": {},
   "outputs": [],
   "source": [
    "stop_words = set()\n",
    "error_context = []"
   ]
  },
  {
   "cell_type": "code",
   "execution_count": 49,
   "metadata": {},
   "outputs": [
    {
     "name": "stderr",
     "output_type": "stream",
     "text": [
      "100%|██████████| 60613/60613 [47:15<00:00, 21.37it/s]\n"
     ]
    }
   ],
   "source": [
    "from tqdm import tqdm\n",
    "\n",
    "for data in tqdm(datasets):\n",
    "  try:\n",
    "    tag_list = okt.pos(data['context'])\n",
    "    for tag in tag_list:\n",
    "      if tag[1] in okt_tag:\n",
    "        stop_words.add(tag[0])\n",
    "  except:\n",
    "    error_context.append(data)"
   ]
  },
  {
   "cell_type": "code",
   "execution_count": 61,
   "metadata": {},
   "outputs": [
    {
     "data": {
      "text/plain": [
       "1128"
      ]
     },
     "execution_count": 61,
     "metadata": {},
     "output_type": "execute_result"
    }
   ],
   "source": [
    "len(stop_words)"
   ]
  },
  {
   "cell_type": "code",
   "execution_count": 62,
   "metadata": {},
   "outputs": [
    {
     "name": "stderr",
     "output_type": "stream",
     "text": [
      "100%|██████████| 60613/60613 [15:07<00:00, 66.78it/s] \n"
     ]
    }
   ],
   "source": [
    "for data in tqdm(datasets):\n",
    "  try:\n",
    "    tag_list = komoran.pos(data['context'])\n",
    "    for tag in tag_list:\n",
    "      if tag[1] in komoran_tag:\n",
    "        stop_words.add(tag[0])\n",
    "  except:\n",
    "    error_context.append(data)"
   ]
  },
  {
   "cell_type": "code",
   "execution_count": 65,
   "metadata": {},
   "outputs": [
    {
     "data": {
      "text/plain": [
       "2979"
      ]
     },
     "execution_count": 65,
     "metadata": {},
     "output_type": "execute_result"
    }
   ],
   "source": [
    "len(stop_words)"
   ]
  },
  {
   "cell_type": "code",
   "execution_count": 66,
   "metadata": {},
   "outputs": [],
   "source": [
    "with open(\"stop_words.txt\", \"w\") as f:\n",
    "  for word in stop_words:\n",
    "    f.write(f\"{word}\\n\")"
   ]
  }
 ],
 "metadata": {
  "interpreter": {
   "hash": "8ac241b0038c08a55f8050af53e8f36f8d3acfd39857d2d9e019009179736117"
  },
  "kernelspec": {
   "display_name": "Python 3.8.5 64-bit ('venv': venv)",
   "name": "python3"
  },
  "language_info": {
   "codemirror_mode": {
    "name": "ipython",
    "version": 3
   },
   "file_extension": ".py",
   "mimetype": "text/x-python",
   "name": "python",
   "nbconvert_exporter": "python",
   "pygments_lexer": "ipython3",
   "version": "3.8.5"
  },
  "orig_nbformat": 4
 },
 "nbformat": 4,
 "nbformat_minor": 2
}
