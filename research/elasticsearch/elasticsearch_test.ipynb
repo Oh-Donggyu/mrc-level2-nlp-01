{
 "cells": [
  {
   "cell_type": "code",
   "execution_count": 138,
   "metadata": {},
   "outputs": [],
   "source": [
    "from datasets import load_from_disk\n",
    "\n",
    "wiki_datasets = load_from_disk(\"/opt/ml/data/wiki_preprocessed_droped\")\n",
    "wiki_datasets.load_elasticsearch_index(\"text\", host=\"localhost\", port=\"9200\", es_index_name=\"wikipedia_contexts\")"
   ]
  },
  {
   "cell_type": "code",
   "execution_count": 139,
   "metadata": {},
   "outputs": [],
   "source": [
    "datasets = load_from_disk(\"/opt/ml/data/train_dataset\")"
   ]
  },
  {
   "cell_type": "code",
   "execution_count": 140,
   "metadata": {},
   "outputs": [
    {
     "data": {
      "text/plain": [
       "Dataset({\n",
       "    features: ['title', 'context', 'question', 'id', 'answers', 'document_id', '__index_level_0__', 'chunks'],\n",
       "    num_rows: 240\n",
       "})"
      ]
     },
     "execution_count": 140,
     "metadata": {},
     "output_type": "execute_result"
    }
   ],
   "source": [
    "datasets['validation']"
   ]
  },
  {
   "cell_type": "code",
   "execution_count": 141,
   "metadata": {},
   "outputs": [],
   "source": [
    "k = 10\n",
    "score = 0\n",
    "correct_examples = []\n",
    "wrong_set = []\n",
    "for i, data in enumerate(datasets['validation']):\n",
    "  query = data['question']\n",
    "  # query = \" \".join(map(lambda x: x[0], filter(lambda x: x[1] == 'NNP' or 'NNG', mecab.pos(query))))\n",
    "  scores, retrieved_examples = wiki_datasets.get_nearest_examples(\"text\", query, k=k)\n",
    "  if data['context'] in retrieved_examples['text']:\n",
    "    correct_examples.append(retrieved_examples)\n",
    "    score += 1\n",
    "  else: \n",
    "    wrong_set.append(data)"
   ]
  },
  {
   "cell_type": "code",
   "execution_count": 142,
   "metadata": {},
   "outputs": [
    {
     "data": {
      "text/plain": [
       "86.66666666666667"
      ]
     },
     "execution_count": 142,
     "metadata": {},
     "output_type": "execute_result"
    }
   ],
   "source": [
    "score/len(datasets['validation']) * 100"
   ]
  },
  {
   "cell_type": "code",
   "execution_count": 171,
   "metadata": {},
   "outputs": [],
   "source": [
    "from konlpy.tag import Komoran, Okt\n",
    "\n",
    "komoran = Komoran()\n",
    "okt = Okt()"
   ]
  },
  {
   "cell_type": "code",
   "execution_count": 172,
   "metadata": {},
   "outputs": [],
   "source": [
    "stop_words = set()\n",
    "error_context = []"
   ]
  },
  {
   "cell_type": "code",
   "execution_count": 174,
   "metadata": {},
   "outputs": [
    {
     "name": "stderr",
     "output_type": "stream",
     "text": [
      "  1%|          | 546/55962 [00:47<1:08:38, 13.45it/s]"
     ]
    }
   ],
   "source": [
    "from tqdm import tqdm\n",
    "\n",
    "for data in tqdm(wiki_datasets):\n",
    "  try:\n",
    "    tag_list = okt.pos(data['text'])\n",
    "    for tag in tag_list:\n",
    "      if tag[1] == 'Noun':\n",
    "        stop_words.add(tag[0])\n",
    "  except:\n",
    "    error_context.append(data)"
   ]
  },
  {
   "cell_type": "code",
   "execution_count": 167,
   "metadata": {},
   "outputs": [],
   "source": [
    "nnp_list = list(filter(lambda x: len(x) > 4, nnp_list))"
   ]
  },
  {
   "cell_type": "markdown",
   "metadata": {},
   "source": [
    "- 기본 엘라스틱 서치 - 노리토크나이저 : top10 - 88.33\n",
    "- BM25 - b=0.01 : k1=0.1 77.5\n",
    "- BM25 - b=0.25, k1=1 88.75\n",
    "- BM25 - b=0.25, k1=1.5 87.5\n",
    "- BM25 - b=0.1, k1=1 87.5\n",
    "- DFR 예시 - 87.083\n",
    "- DFI 기본 - 76.66"
   ]
  }
 ],
 "metadata": {
  "interpreter": {
   "hash": "d4d1e4263499bec80672ea0156c357c1ee493ec2b1c70f0acce89fc37c4a6abe"
  },
  "kernelspec": {
   "display_name": "Python 3.8.5 64-bit ('base': conda)",
   "name": "python3"
  },
  "language_info": {
   "codemirror_mode": {
    "name": "ipython",
    "version": 3
   },
   "file_extension": ".py",
   "mimetype": "text/x-python",
   "name": "python",
   "nbconvert_exporter": "python",
   "pygments_lexer": "ipython3",
   "version": "3.8.5"
  },
  "orig_nbformat": 4
 },
 "nbformat": 4,
 "nbformat_minor": 2
}
