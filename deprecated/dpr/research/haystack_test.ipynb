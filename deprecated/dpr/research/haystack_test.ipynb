{
 "cells": [
  {
   "cell_type": "code",
   "execution_count": 1,
   "metadata": {},
   "outputs": [
    {
     "name": "stderr",
     "output_type": "stream",
     "text": [
      "/opt/ml/code/ipynb_research/venv/lib/python3.8/site-packages/ray/autoscaler/_private/cli_logger.py:57: FutureWarning: Not all Ray CLI dependencies were found. In Ray 1.4+, the Ray CLI, autoscaler, and dashboard will only be usable via `pip install 'ray[default]'`. Please update your install command.\n",
      "  warnings.warn(\n"
     ]
    }
   ],
   "source": [
    "from haystack.utils import clean_wiki_text, convert_files_to_dicts, fetch_archive_from_http, print_answers\n",
    "from haystack.nodes import FARMReader, TransformersReader"
   ]
  },
  {
   "cell_type": "code",
   "execution_count": 2,
   "metadata": {},
   "outputs": [],
   "source": [
    "from haystack.document_stores import FAISSDocumentStore\n",
    "\n",
    "document_store = FAISSDocumentStore(faiss_index_factory_str=\"Flat\")"
   ]
  },
  {
   "cell_type": "code",
   "execution_count": 3,
   "metadata": {},
   "outputs": [
    {
     "data": {
      "text/plain": [
       "list"
      ]
     },
     "execution_count": 3,
     "metadata": {},
     "output_type": "execute_result"
    }
   ],
   "source": [
    "import json\n",
    "\n",
    "with open(\"dicts.json\", \"r\") as st_json:\n",
    "    dicts = json.load(st_json)\n",
    "type(dicts)"
   ]
  },
  {
   "cell_type": "code",
   "execution_count": 4,
   "metadata": {},
   "outputs": [],
   "source": [
    "document_store.write_documents(dicts)"
   ]
  },
  {
   "cell_type": "code",
   "execution_count": 5,
   "metadata": {},
   "outputs": [],
   "source": [
    "from haystack.nodes import DensePassageRetriever\n",
    "\n",
    "retriever = DensePassageRetriever.load(load_dir='./bert_encoder2', document_store=document_store)"
   ]
  },
  {
   "cell_type": "code",
   "execution_count": 6,
   "metadata": {},
   "outputs": [
    {
     "name": "stderr",
     "output_type": "stream",
     "text": [
      "Updating Embedding:   0%|          | 0/55962 [00:00<?, ? docs/s]"
     ]
    },
    {
     "data": {
      "application/vnd.jupyter.widget-view+json": {
       "model_id": "c80a781060944bd49ed2b0723836d1e7",
       "version_major": 2,
       "version_minor": 0
      },
      "text/plain": [
       "Create embeddings:   0%|          | 0/10000 [00:00<?, ? Docs/s]"
      ]
     },
     "metadata": {},
     "output_type": "display_data"
    },
    {
     "name": "stderr",
     "output_type": "stream",
     "text": [
      "Documents Processed:  18%|█▊        | 10000/55962 [01:39<06:35, 116.32 docs/s]"
     ]
    },
    {
     "data": {
      "application/vnd.jupyter.widget-view+json": {
       "model_id": "e7c76504a150429d9650b8d169917f22",
       "version_major": 2,
       "version_minor": 0
      },
      "text/plain": [
       "Create embeddings:   0%|          | 0/10000 [00:00<?, ? Docs/s]"
      ]
     },
     "metadata": {},
     "output_type": "display_data"
    },
    {
     "name": "stderr",
     "output_type": "stream",
     "text": [
      "Documents Processed:  36%|███▌      | 20000/55962 [03:10<05:13, 114.72 docs/s]"
     ]
    },
    {
     "data": {
      "application/vnd.jupyter.widget-view+json": {
       "model_id": "b1a5d57d5eca485697a7884d9a66a5f6",
       "version_major": 2,
       "version_minor": 0
      },
      "text/plain": [
       "Create embeddings:   0%|          | 0/10000 [00:00<?, ? Docs/s]"
      ]
     },
     "metadata": {},
     "output_type": "display_data"
    },
    {
     "name": "stderr",
     "output_type": "stream",
     "text": [
      "Documents Processed:  54%|█████▎    | 30000/55962 [04:30<03:37, 119.34 docs/s]"
     ]
    },
    {
     "data": {
      "application/vnd.jupyter.widget-view+json": {
       "model_id": "804e96c140364e6eb88ef2b05b9c1ef2",
       "version_major": 2,
       "version_minor": 0
      },
      "text/plain": [
       "Create embeddings:   0%|          | 0/10000 [00:00<?, ? Docs/s]"
      ]
     },
     "metadata": {},
     "output_type": "display_data"
    },
    {
     "name": "stderr",
     "output_type": "stream",
     "text": [
      "Documents Processed:  71%|███████▏  | 40000/55962 [05:50<02:11, 121.17 docs/s]"
     ]
    },
    {
     "data": {
      "application/vnd.jupyter.widget-view+json": {
       "model_id": "03e829fd17474ca7af6bb12245249c0f",
       "version_major": 2,
       "version_minor": 0
      },
      "text/plain": [
       "Create embeddings:   0%|          | 0/10000 [00:00<?, ? Docs/s]"
      ]
     },
     "metadata": {},
     "output_type": "display_data"
    },
    {
     "name": "stderr",
     "output_type": "stream",
     "text": [
      "Documents Processed:  89%|████████▉ | 50000/55962 [06:53<00:48, 123.15 docs/s]"
     ]
    },
    {
     "data": {
      "application/vnd.jupyter.widget-view+json": {
       "model_id": "9fff6bd9ed8b4e748edfde33e70de386",
       "version_major": 2,
       "version_minor": 0
      },
      "text/plain": [
       "Create embeddings:   0%|          | 0/5968 [00:00<?, ? Docs/s]"
      ]
     },
     "metadata": {},
     "output_type": "display_data"
    },
    {
     "name": "stderr",
     "output_type": "stream",
     "text": [
      "Documents Processed: 60000 docs [07:38, 130.89 docs/s]\n"
     ]
    }
   ],
   "source": [
    "document_store.update_embeddings(retriever)"
   ]
  },
  {
   "cell_type": "code",
   "execution_count": 8,
   "metadata": {},
   "outputs": [
    {
     "data": {
      "text/plain": [
       "[{'content': '\\u200d \\u200d... \\u200d \\u200d \\u200d... .....', 'content_type': 'text', 'score': 0.7592819117302857, 'meta': {'title': '스리랑카의 국가', 'document_id': '4210', 'vector_id': '41387'}, 'embedding': None, 'id': 'c1b6ed59024ba54ff7ee4d8779f5edb3'},\n",
       " {'content': '( )2', 'content_type': 'text', 'score': 0.673897425986948, 'meta': {'title': '미얀마의 국가', 'document_id': '4308', 'vector_id': '5566'}, 'embedding': None, 'id': '280e34991b78586512a298b38ca8cac6'},\n",
       " {'content': ': , : - , : : , , :, .', 'content_type': 'text', 'score': 0.6541141436912509, 'meta': {'title': '아르차흐 공화국의 국가', 'document_id': '9116', 'vector_id': '14814'}, 'embedding': None, 'id': '4f5eae3b11d2fb1c0a277260052d9fbb'},\n",
       " {'content': \"'The Disaster Tourist' Is a Timely Capitalist Satire - The Atlantic - /\", 'content_type': 'text', 'score': 0.6223146751883746, 'meta': {'title': '윤고은', 'document_id': '60281', 'vector_id': '24287'}, 'embedding': None, 'id': '77ce90dac6e9c63b78dc53ff33bea259'},\n",
       " {'content': 'ISO 639 Codes for the representation of names of languages, with the following parts: * ISO 639-1:2002 Codes for the representation of names of languages -- Part 1: Alpha-2 code (ISO 639-1/RA - Registration Authority for the maintenance of the code: Infoterm) * ISO 639-2:1998 Codes for the representation of names of languages -- Part 2: Alpha-3 code (ISO 639-2/RA - Registration Authority for the maintenance of the code: Library of Congress) * ISO 639-3:2007 Codes for the representation of names of languages -- Part 3: Alpha-3 code for comprehensive coverage of languages (ISO 639-3/RA - Registration Authority for the maintenance of the code: SIL International) * ISO 639-4:2010 Codes for the representation of names of languages -- Part 4: General principles of coding of the representation of names of languages and related entities * ISO 639-5:2008 Codes for the representation of names of languages -- Part 5: Alpha-3 code for language families and groups * ISO 639-6:2009 Codes for the representation of names of languages -- Part 6: Alpha-4 code for comprehensive coverage of language variants -- Extension of coding for language * ISO 704:2009 Terminology work -- Principles and methods * ISO 860:1996 Terminology work -- Harmonization of concepts and terms * ISO 1087-1:2000 Terminology -- Vocabulary -- Part 1: Theory and application * ISO 1087-2:2000 Terminology work -- Vocabulary -- Part 2: Computer applications * ISO 1951:1997 Lexicographical symbols particularly for use in classified defining vocabularies * ISO 1951:2007 3rd Ed. -- Presentation/Representation of entries in dictionaries - Requirements, recommendations and information * ISO 6156:1987 Magnetic tape exchange format for terminological / lexicographical records (MATER) (withdrawn) * ISO 10241:1992 Preparation and layout of international terminology standards * ISO 10241-1:2011 Terminological entries in standards - General requirements and examples of presentation * ISO 10241-2:2012 Terminological entries in standards - Part 2: Adoption of standardized *ISO 12199:2000 Alphabetical ordering of multilingual terminological and lexicographical data represented in the Latin alphabet * ISO 12200:1999 Computer applications in terminology -- Machine-readable terminology interchange format (MARTIF) -- Negotiated interchange * ISO 12615:2004 Bibliographic references and source identifiers for terminology work * ISO 12616:2002 Translation-oriented terminography * ISO 12620:1999 Computer applications in terminology -- Data categories obsoleted by ISO 12620:2009 * ISO 12620:2009 Terminology and other language and content resources-Specification of data categories and management of a Data Category Registry for language resources * ISO 15188:2001 Project management guidelines for terminology standardization * ISO 16642:2003 Computer applications in terminology -- Terminology Mark-up Framework (TMF) * ISO 22128:2008 Guide to terminology products and services - Overview and Guidance * ISO 23185:2009 Assessment and benchmarking of terminological resources - General concepts, principles and requirements * ISO 24613:2008 Language Resource Management - Lexical Markup-Framework (LMF) * ISO 30042:2008 Systems to manage terminology, knowledge and content-TermBase eXchange (TBX)', 'content_type': 'text', 'score': 0.6164512426727425, 'meta': {'title': 'ISO TC/37', 'document_id': '35545', 'vector_id': '27804'}, 'embedding': None, 'id': '86df0170a78c54bb3091cf36d59f5ca'},\n",
       " {'content': '제목=펀더멘탈리스트|주소= 종교', 'content_type': 'text', 'score': 0.6156511116998529, 'meta': {'title': '근본주의', 'document_id': '9128', 'vector_id': '4490'}, 'embedding': None, 'id': '2392b92a22a62f13c1c5ae1fcfd2b494'},\n",
       " {'content': '- 국외 대표 논문 ∙Rasmussen, C, Marrongelle, K., Kwon, O. N., & Hodge, A. (2017). \"Four goals for instructors using inquiry based learning\", Notices of the American Mathematics Society, 64(11), 1308-1311. ∙Kwon, O. N., Bae, Y., Oh, K. H. (2015). Design research on inquiry-based multivariable calculus: focusing on students\\' argumentation and instructional design ZDM Mathematics Education, 47(6), 997-1011. ∙Rasmussen, C., & Kwon, O. N. (2007) \"An inquiry-oriented approach to undergraduate mathematics\" The Journal of Mathematical Behavior, 26(3), 189-194. - 국내 대표 논문 ∙권오남, 이경원, 이아란, 한채린(2019) \"한ㆍ일 수학과 교육과정의 외ㆍ내적 체재 비교 분석: 직전 교육과정과의 변화를 중심으로\" 한국수학교육학회 시리즈 A <수학교육>, 58(2), 187-223. ∙권오남, 박수민, 이경원(2019). \"교육과정 총론과 각론 문서 체재의 일관성의 기제: 호주와 일본 수학과 교육과정 개발 절차를 중심으로\" 교육과정연구, 37(3), 171-197. ∙권오남, 박정숙, 박지현, 조형미(2013). \"공동체 단위 수학교사 연수 프로그램의 개발 및 효과 - \"함께 만들어가는 수학 교사 연구\"를 중심으로 -\" 한국수학교육학회 시리즈 A <수학교육>, 53(2), 201-217. ∙권오남, 박재희, 오국환, 배영곤(2013). \"공동체단위의 연수를 통한 나타난 고등학교수학 중심 융합수업의 개발 및 적용 사례\" 한국수학교육학회 시리즈 A <수학교육>, 53(3), 357-381. ∙권오남, 박정숙, 오국환(2013). \"비판적 수학교육에 대한 문헌 분석 연구\" 한국수학교육학회 시리즈 A <수학교육>, 52(3), 319-334.', 'content_type': 'text', 'score': 0.6007449109773639, 'meta': {'title': '권오남', 'document_id': '58066', 'vector_id': '35900'}, 'embedding': None, 'id': 'aa30bbadecf2be6b0101bbb17638f131'},\n",
       " {'content': 'Note: Current status is not mentioned here - see ISO Website for most recent status. Many of these are in development.: * ISO 704 Terminology work - Principles and methods * ISO 860.2 Terminology work - Harmonization of concepts & terms * ISO 1087-1 Terminology work - Vocabulary - Part 1: Theory and application * ISO 12618 Computer applications in terminology - Design, implementation and use of terminology management systems * ISO 12620 Terminology and other content and language resources - Specification of data categories and management of a Data Category Registry for language resources * ISO 21829 Language resource management - Terminology (TLM) * ISO 22130 Additional language coding * ISO 22134 Practical guide for socio-terminology * ISO 22274 Internationalization and concept-related aspects of classification systems * ISO 24156 Guidelines for applying concept modelling in terminology work * ISO 24610-1 Language resource management - Feature structures - Part 1: Feature structure representation * ISO 24610-2 Language resource management - Feature structures - Part 2: Feature systems declaration (FSD) * ISO 24611 Language resource management - Morpho-syntactic annotation framework * ISO 24612 Language resource management - Linguistic Annotation Framework * ISO 24614-1 Language resource management - Word Segmentation of Written Texts for Mono-lingual and Multi-lingual Information Processing - Part 1: General principles and methods * ISO 24614-2 Language resource management - Word Segmentation of Written Texts for Mono-lingual and Multi-lingual Information Processing - Part 2: Word segmentation for Chinese, Japanese and Korean * ISO 24615 Language resource management - Syntactic Annotation Framework (SynAF) * ISO 24617-3 Language resource management - Named entities * ISO 26162 Design, implementation and maintenance of terminology management systems * ISO 29383 Terminology policies - Development and Implementation ----', 'content_type': 'text', 'score': 0.6004186384352858, 'meta': {'title': 'ISO TC/37', 'document_id': '35546', 'vector_id': '12179'}, 'embedding': None, 'id': '4403c7d24e93bf864152b17cc41bfd0'},\n",
       " {'content': 'UK Constitution and Government Parliament of the United Kingdom * United Kingdom Parliament. 공식 홈페이지. * United Kingdom Parliament Education Service. Official website. * The Parliamentary Archives of the United Kingdom. Official website. * Video and audio of parliamentary proceedings * BBC Parliament * History of Parliament. Official website. * Parliamentary election results 1832-2005 * The British Broadcasting Corporation. (2005). \"A-Z of Parliament.\" * Industry and Parliament Trust * Information links to Government, political parties and statistics. * The Guardian. (2005). \"Special Report: House of Commons.\" * The Guardian. (2005). \"Special Report: House of Lords.\" * Parliamentary procedure site at Leeds University', 'content_type': 'text', 'score': 0.5994356781771901, 'meta': {'title': '영국 의회', 'document_id': '26385', 'vector_id': '9835'}, 'embedding': None, 'id': '3a85b572ad17dfc2cd4060b28aa3174c'},\n",
       " {'content': '2001 Tokujin Design (gap / Japan) 2006 Tokujin Yoshioka Design (English edition, Japanese edition) (Phaidon / UK) 2008 Second Nature (Kyuryudo / Japan) 2009 Invisible Forms (Esquire Magazine / Japan) 2010 SENSING NATURE (Heibonsha / Japan) 2010 TOKUJIN YOSHIOKA (Rizzoli / USA) 2013 TOKUJIN YOSHIOKA-Crystallize (Seigensha / Japan)', 'content_type': 'text', 'score': 0.59726993274117, 'meta': {'title': '요시오카 도쿠진', 'document_id': '47358', 'vector_id': '2123'}, 'embedding': None, 'id': '1953050af8d81f1a76a02c4755628008'}]"
      ]
     },
     "execution_count": 8,
     "metadata": {},
     "output_type": "execute_result"
    }
   ],
   "source": [
    "result = retriever.retrieve('광둥에 온 가장 우수한 조선인 혁명가의 전형적인 인물은?', top_k=10)\n",
    "result"
   ]
  }
 ],
 "metadata": {
  "interpreter": {
   "hash": "977fda65bac41d30cd3f18c1e98e8fc3ad41bed726231322c7cb8b8621bf4c65"
  },
  "kernelspec": {
   "display_name": "Python 3.8.5 64-bit ('venv': venv)",
   "name": "python3"
  },
  "language_info": {
   "codemirror_mode": {
    "name": "ipython",
    "version": 3
   },
   "file_extension": ".py",
   "mimetype": "text/x-python",
   "name": "python",
   "nbconvert_exporter": "python",
   "pygments_lexer": "ipython3",
   "version": "3.8.5"
  },
  "orig_nbformat": 4
 },
 "nbformat": 4,
 "nbformat_minor": 2
}
